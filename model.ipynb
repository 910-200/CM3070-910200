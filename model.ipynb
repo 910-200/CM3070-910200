{
 "cells": [
  {
   "cell_type": "markdown",
   "id": "d93105ec-58e7-4e77-a54f-0453f7a5d796",
   "metadata": {},
   "source": [
    "## Setup"
   ]
  },
  {
   "cell_type": "markdown",
   "id": "c2b72377-1c5d-40b6-ba61-ebff2bbfc935",
   "metadata": {},
   "source": [
    "### Initialization"
   ]
  },
  {
   "cell_type": "code",
   "execution_count": 1,
   "id": "31d1f2ba-774d-42bb-8e3d-60532a31e1f9",
   "metadata": {},
   "outputs": [
    {
     "name": "stderr",
     "output_type": "stream",
     "text": [
      "2025-09-22 09:47:08.248883: I tensorflow/core/platform/cpu_feature_guard.cc:210] This TensorFlow binary is optimized to use available CPU instructions in performance-critical operations.\n",
      "To enable the following instructions: AVX2 FMA, in other operations, rebuild TensorFlow with the appropriate compiler flags.\n"
     ]
    }
   ],
   "source": [
    "import numpy as np\n",
    "import pandas as pd\n",
    "import tensorflow as tf\n",
    "from tensorflow import keras\n",
    "from keras import layers\n",
    "from sklearn.preprocessing import MinMaxScaler\n",
    "\n",
    "import matplotlib.pyplot as plt\n",
    "import isoweek\n",
    "import math\n",
    "\n",
    "import unittest"
   ]
  },
  {
   "cell_type": "code",
   "execution_count": 2,
   "id": "0e551a7d-c16e-4d40-8a66-d7ace40c31b6",
   "metadata": {},
   "outputs": [],
   "source": [
    "path = 'EURUSD-Jul25.csv'\n",
    "\n",
    "year = 2025\n",
    "file = pd.read_csv(path,\n",
    "                   sep=';',\n",
    "                   header=None,\n",
    "                   usecols=[0, 1, 2, 3, 4],\n",
    "                   names=['time', 'open', 'high', 'low', 'close'],\n",
    "                   parse_dates=[0],\n",
    "                   date_format='%Y%m%d %H%M%S'\n",
    "                   )"
   ]
  },
  {
   "cell_type": "markdown",
   "id": "d814a825-4dec-4ce8-9099-0d1fb95571d8",
   "metadata": {},
   "source": [
    "### Data Cleaning"
   ]
  },
  {
   "cell_type": "code",
   "execution_count": 3,
   "id": "888e55e0-6197-446b-b7ab-49b282f91d28",
   "metadata": {},
   "outputs": [],
   "source": [
    "count = 0\n",
    "high = 0.00000\n",
    "low = 9.99999\n",
    "open_price = 0.00000\n",
    "close_price = 0.00000\n",
    "\n",
    "# section = file.loc[:29]\n",
    "clean = pd.DataFrame(columns=['week', 'day', 'hour', 'minute',\n",
    "                              'open', 'high', 'low', 'close',\n",
    "                              'momentum', 'avg', 'range', 'ohlc'])\n",
    "\n",
    "for row in file.itertuples():\n",
    "    if (row[3] > high):\n",
    "        high = row[3]\n",
    "    \n",
    "    if (row[4] < low):\n",
    "        low = row[4]\n",
    "\n",
    "    if (count == 0):\n",
    "        minute = row[1].minute\n",
    "        open_price = row[2]\n",
    "\n",
    "    if (count == 9):\n",
    "        close_price = row[5]\n",
    "        hour = row[1].hour\n",
    "        day = row[1].weekday()\n",
    "        week = row[1].week\n",
    "        momentum = open_price - close_price\n",
    "        avg = ( (low + high) / 2 )\n",
    "        price_range = high - low\n",
    "        ohlc = ( (open_price + high + low + close_price) / 4)\n",
    "        \n",
    "        new_row = [week, day, hour, minute,\n",
    "                   open_price, high, low, close_price,\n",
    "                   momentum, avg, price_range, ohlc]\n",
    "        clean.loc[len(clean)] = new_row\n",
    "        \n",
    "        count = 0\n",
    "        high = 0\n",
    "        low = 999\n",
    "        continue\n",
    "    \n",
    "    count += 1"
   ]
  },
  {
   "cell_type": "markdown",
   "id": "3e1ef7bd-a330-4880-a0bd-84dfe16cce99",
   "metadata": {},
   "source": [
    "### Normalization"
   ]
  },
  {
   "cell_type": "code",
   "execution_count": 4,
   "id": "40e18767-b6cf-4905-813b-48dbdc5315bd",
   "metadata": {},
   "outputs": [],
   "source": [
    "split = int( (0.8*len(clean)) )\n",
    "train = clean[:split]\n",
    "test = clean[split:]"
   ]
  },
  {
   "cell_type": "code",
   "execution_count": 5,
   "id": "52435430-5b97-4bf0-b682-9a010171794c",
   "metadata": {},
   "outputs": [],
   "source": [
    "def to_normal_vector(value):\n",
    "    angle = value * math.pi * 2\n",
    "    x = math.sin(angle)\n",
    "    y = math.cos(angle)\n",
    "    x = (x + 1) / 2\n",
    "    y = (y + 1) / 2\n",
    "    return(x, y)"
   ]
  },
  {
   "cell_type": "code",
   "execution_count": 6,
   "id": "9ad96cc4-cfb7-4dea-b68f-9d441877de00",
   "metadata": {},
   "outputs": [],
   "source": [
    "def normalize_time(df):\n",
    "    time = pd.DataFrame(columns=['week_x', 'week_y', 'day_x', 'day_y',\n",
    "                                 'hour_x', 'hour_y', 'minute_x', 'minute_y'])\n",
    "\n",
    "    for row in df.itertuples():\n",
    "        week_ratio = row[1] / isoweek.Week.last_week_of_year(year).week\n",
    "        week = to_normal_vector(week_ratio)\n",
    "        day_ratio = row[2] / 7\n",
    "        day = to_normal_vector(day_ratio)\n",
    "        hour_ratio = row[3] / 24\n",
    "        hour = to_normal_vector(hour_ratio)\n",
    "        minute_ratio = row[4] / 6\n",
    "        minute = to_normal_vector(minute_ratio)\n",
    "    \n",
    "        new_row = [ week[0], week[1], day[0], day[1],\n",
    "                    hour[0], hour[1], minute[0], minute[1] ]\n",
    "        time.loc[len(time)] = new_row\n",
    "\n",
    "    return time"
   ]
  },
  {
   "cell_type": "code",
   "execution_count": 7,
   "id": "2a28d2bf-d3bc-4af4-a2a3-3ed7e5aeaab9",
   "metadata": {},
   "outputs": [],
   "source": [
    "time = normalize_time(train)\n",
    "test_time = normalize_time(test)"
   ]
  },
  {
   "cell_type": "code",
   "execution_count": 8,
   "id": "17759790-ad35-4d4e-9b4f-beb9b0bf7b01",
   "metadata": {},
   "outputs": [],
   "source": [
    "price_columns = ['open', 'high', 'low', 'close',\n",
    "                'momentum', 'avg', 'range', 'ohlc']\n",
    "prices = train[price_columns]\n",
    "scaler = MinMaxScaler()\n",
    "scaler.set_output(transform='pandas')\n",
    "prices = scaler.fit_transform(prices)"
   ]
  },
  {
   "cell_type": "code",
   "execution_count": 9,
   "id": "d4684172-83e1-49c4-bc67-0d8edbf98ac2",
   "metadata": {},
   "outputs": [],
   "source": [
    "test_prices = test[price_columns]\n",
    "test_prices = scaler.transform(test_prices)\n",
    "test_prices.reset_index(inplace=True, drop=True)"
   ]
  },
  {
   "cell_type": "code",
   "execution_count": 10,
   "id": "a8c04f05-91cf-4211-adad-ec81651763a4",
   "metadata": {},
   "outputs": [],
   "source": [
    "norm_test = pd.concat([test_time, test_prices], axis=1)\n",
    "norm_train = pd.concat([test_time, test_prices], axis=1)"
   ]
  },
  {
   "cell_type": "markdown",
   "id": "68db7910-3dcc-4f1d-8c20-ebb5521b02ef",
   "metadata": {},
   "source": [
    "### Sequencing"
   ]
  },
  {
   "cell_type": "code",
   "execution_count": 11,
   "id": "d9b78e6c-7076-4d2f-9746-119999d3ea76",
   "metadata": {},
   "outputs": [],
   "source": [
    "# https://www.geeksforgeeks.org/deep-learning/time-series-forecasting-using-tensorflow/\n",
    "\n",
    "def create_sequences(data, seq_length=5):\n",
    "    input_data, target = [], []\n",
    "    for i in range(len(data) - seq_length):\n",
    "        input_data.append(data.iloc[i:i+seq_length])\n",
    "        target.append(data.iloc[i+seq_length])\n",
    "    return np.array(input_data), np.array(target)\n",
    "\n",
    "# https://www.geeksforgeeks.org/deep-learning/time-series-forecasting-using-tensorflow/"
   ]
  },
  {
   "cell_type": "code",
   "execution_count": 12,
   "id": "a63b8710-d0eb-4b5c-a65e-8868923e01b3",
   "metadata": {},
   "outputs": [],
   "source": [
    "# step = 50 # predict the 60th minute from 50\n",
    "x_train, y_train = create_sequences(norm_train)\n",
    "x__test, y_test = create_sequences(norm_test)"
   ]
  },
  {
   "cell_type": "markdown",
   "id": "1e591998-f911-4e6f-9eeb-d9206fe0524b",
   "metadata": {},
   "source": [
    "## Data Loading and Cleaning"
   ]
  },
  {
   "cell_type": "code",
   "execution_count": 13,
   "id": "8c19b457-e6aa-4b45-a3cd-041a43ba6b96",
   "metadata": {},
   "outputs": [],
   "source": [
    "path = 'EURUSD-Jul25.csv'\n",
    "\n",
    "year = 2025\n",
    "file = pd.read_csv(path,\n",
    "                   sep=';',\n",
    "                   header=None,\n",
    "                   usecols=[0, 1, 2, 3, 4],\n",
    "                   names=['time', 'open', 'high', 'low', 'close'],\n",
    "                   parse_dates=[0],\n",
    "                   date_format='%Y%m%d %H%M%S'\n",
    "                   )"
   ]
  },
  {
   "cell_type": "code",
   "execution_count": 14,
   "id": "8463ae14-a0f9-4d68-9d72-9cfbe0f38b1c",
   "metadata": {
    "scrolled": true
   },
   "outputs": [
    {
     "name": "stdout",
     "output_type": "stream",
     "text": [
      "                 time     open     high      low    close\n",
      "0 2025-07-01 00:00:00  1.17894  1.17902  1.17891  1.17902\n",
      "1 2025-07-01 00:01:00  1.17899  1.17902  1.17893  1.17893\n",
      "2 2025-07-01 00:02:00  1.17892  1.17894  1.17884  1.17886\n",
      "3 2025-07-01 00:03:00  1.17885  1.17892  1.17879  1.17891\n",
      "4 2025-07-01 00:04:00  1.17890  1.17893  1.17881  1.17883\n"
     ]
    }
   ],
   "source": [
    "print(file.head())"
   ]
  },
  {
   "cell_type": "code",
   "execution_count": 15,
   "id": "a10b3bdd-db26-4b77-b818-58838c121c3a",
   "metadata": {},
   "outputs": [
    {
     "name": "stdout",
     "output_type": "stream",
     "text": [
      "<class 'pandas.core.frame.DataFrame'>\n",
      "RangeIndex: 33039 entries, 0 to 33038\n",
      "Data columns (total 5 columns):\n",
      " #   Column  Non-Null Count  Dtype         \n",
      "---  ------  --------------  -----         \n",
      " 0   time    33039 non-null  datetime64[ns]\n",
      " 1   open    33039 non-null  float64       \n",
      " 2   high    33039 non-null  float64       \n",
      " 3   low     33039 non-null  float64       \n",
      " 4   close   33039 non-null  float64       \n",
      "dtypes: datetime64[ns](1), float64(4)\n",
      "memory usage: 1.3 MB\n",
      "None\n"
     ]
    }
   ],
   "source": [
    "print(file.info())"
   ]
  },
  {
   "cell_type": "code",
   "execution_count": 16,
   "id": "8610f4a0-dd0a-434a-abb7-3e8a59f8fade",
   "metadata": {},
   "outputs": [
    {
     "data": {
      "image/png": "[encoded data removed]",
      "text/plain": [
       "<Figure size 1200x600 with 1 Axes>"
      ]
     },
     "metadata": {},
     "output_type": "display_data"
    }
   ],
   "source": [
    "plt.figure(figsize=(12, 6))\n",
    "plt.plot(file.index, file['close'])\n",
    "plt.title('EUR/USD')\n",
    "plt.xlabel('Tick')\n",
    "plt.ylabel('Exchange Rate')\n",
    "plt.grid(True)\n",
    "plt.show()"
   ]
  },
  {
   "cell_type": "code",
   "execution_count": 17,
   "id": "2b7ef7d8-386a-4a91-b209-907732676a3b",
   "metadata": {},
   "outputs": [],
   "source": [
    "count = 0\n",
    "high = 0.00000\n",
    "low = 9.99999\n",
    "open_price = 0.00000\n",
    "close_price = 0.00000\n",
    "\n",
    "# section = file.loc[:29]\n",
    "clean = pd.DataFrame(columns=['week', 'day', 'hour', 'minute',\n",
    "                              'open', 'high', 'low', 'close',\n",
    "                              'momentum', 'avg', 'range', 'ohlc'])\n",
    "\n",
    "for row in file.itertuples():\n",
    "    if (row[3] > high):\n",
    "        high = row[3]\n",
    "    \n",
    "    if (row[4] < low):\n",
    "        low = row[4]\n",
    "\n",
    "    if (count == 0):\n",
    "        minute = row[1].minute\n",
    "        open_price = row[2]\n",
    "\n",
    "    if (count == 9):\n",
    "        close_price = row[5]\n",
    "        hour = row[1].hour\n",
    "        day = row[1].weekday()\n",
    "        week = row[1].week\n",
    "        momentum = open_price = close_price\n",
    "        avg = ( (low + high) / 2 )\n",
    "        price_range = high - low\n",
    "        ohlc = ( (open_price + high + low + close_price) / 4)\n",
    "        \n",
    "        new_row = [week, day, hour, minute,\n",
    "                   open_price, high, low, close_price,\n",
    "                   momentum, avg, price_range, ohlc]\n",
    "        clean.loc[len(clean)] = new_row\n",
    "        \n",
    "        count = 0\n",
    "        high = 0\n",
    "        low = 999\n",
    "        continue\n",
    "    \n",
    "    count += 1"
   ]
  },
  {
   "cell_type": "code",
   "execution_count": 18,
   "id": "22b28b16-94b8-478c-8917-0d59319a61ba",
   "metadata": {},
   "outputs": [
    {
     "name": "stdout",
     "output_type": "stream",
     "text": [
      "   week  day  hour  minute     open     high      low    close  momentum  \\\n",
      "0  27.0  1.0   0.0     0.0  1.17891  1.17902  1.17858  1.17891   1.17891   \n",
      "1  27.0  1.0   0.0    10.0  1.17925  1.17930  1.17891  1.17925   1.17925   \n",
      "2  27.0  1.0   0.0    20.0  1.17904  1.17937  1.17900  1.17904   1.17904   \n",
      "3  27.0  1.0   0.0    30.0  1.17872  1.17904  1.17869  1.17872   1.17872   \n",
      "4  27.0  1.0   0.0    40.0  1.17866  1.17880  1.17844  1.17866   1.17866   \n",
      "5  27.0  1.0   0.0    50.0  1.17862  1.17865  1.17826  1.17862   1.17862   \n",
      "6  27.0  1.0   1.0     0.0  1.17856  1.17877  1.17848  1.17856   1.17856   \n",
      "7  27.0  1.0   1.0    10.0  1.17828  1.17869  1.17823  1.17828   1.17828   \n",
      "8  27.0  1.0   1.0    20.0  1.17871  1.17878  1.17825  1.17871   1.17871   \n",
      "9  27.0  1.0   1.0    30.0  1.17863  1.17894  1.17862  1.17863   1.17863   \n",
      "\n",
      "        avg    range      ohlc  \n",
      "0  1.178800  0.00044  1.178855  \n",
      "1  1.179105  0.00039  1.179177  \n",
      "2  1.179185  0.00037  1.179113  \n",
      "3  1.178865  0.00035  1.178792  \n",
      "4  1.178620  0.00036  1.178640  \n",
      "5  1.178455  0.00039  1.178538  \n",
      "6  1.178625  0.00029  1.178593  \n",
      "7  1.178460  0.00046  1.178370  \n",
      "8  1.178515  0.00053  1.178612  \n",
      "9  1.178780  0.00032  1.178705  \n"
     ]
    }
   ],
   "source": [
    "print(clean.head(10))"
   ]
  },
  {
   "cell_type": "code",
   "execution_count": 19,
   "id": "d630df1f-5af8-4087-9989-2a75c636973c",
   "metadata": {},
   "outputs": [
    {
     "name": "stdout",
     "output_type": "stream",
     "text": [
      "<class 'pandas.core.frame.DataFrame'>\n",
      "Index: 3303 entries, 0 to 3302\n",
      "Data columns (total 12 columns):\n",
      " #   Column    Non-Null Count  Dtype  \n",
      "---  ------    --------------  -----  \n",
      " 0   week      3303 non-null   float64\n",
      " 1   day       3303 non-null   float64\n",
      " 2   hour      3303 non-null   float64\n",
      " 3   minute    3303 non-null   float64\n",
      " 4   open      3303 non-null   float64\n",
      " 5   high      3303 non-null   float64\n",
      " 6   low       3303 non-null   float64\n",
      " 7   close     3303 non-null   float64\n",
      " 8   momentum  3303 non-null   float64\n",
      " 9   avg       3303 non-null   float64\n",
      " 10  range     3303 non-null   float64\n",
      " 11  ohlc      3303 non-null   float64\n",
      "dtypes: float64(12)\n",
      "memory usage: 335.5 KB\n",
      "None\n"
     ]
    }
   ],
   "source": [
    "print(clean.info())"
   ]
  },
  {
   "cell_type": "code",
   "execution_count": 20,
   "id": "80add694-8532-4ed6-a7f9-c429744e1816",
   "metadata": {},
   "outputs": [
    {
     "data": {
      "text/html": [
       "<div>\n",
       "<style scoped>\n",
       "    .dataframe tbody tr th:only-of-type {\n",
       "        vertical-align: middle;\n",
       "    }\n",
       "\n",
       "    .dataframe tbody tr th {\n",
       "        vertical-align: top;\n",
       "    }\n",
       "\n",
       "    .dataframe thead th {\n",
       "        text-align: right;\n",
       "    }\n",
       "</style>\n",
       "<table border=\"1\" class=\"dataframe\">\n",
       "  <thead>\n",
       "    <tr style=\"text-align: right;\">\n",
       "      <th></th>\n",
       "      <th>count</th>\n",
       "      <th>mean</th>\n",
       "      <th>std</th>\n",
       "      <th>min</th>\n",
       "      <th>25%</th>\n",
       "      <th>50%</th>\n",
       "      <th>75%</th>\n",
       "      <th>max</th>\n",
       "    </tr>\n",
       "  </thead>\n",
       "  <tbody>\n",
       "    <tr>\n",
       "      <th>week</th>\n",
       "      <td>3303.0</td>\n",
       "      <td>29.000303</td>\n",
       "      <td>1.351245</td>\n",
       "      <td>27.000000</td>\n",
       "      <td>28.000000</td>\n",
       "      <td>29.000000</td>\n",
       "      <td>30.000000</td>\n",
       "      <td>31.000000</td>\n",
       "    </tr>\n",
       "    <tr>\n",
       "      <th>day</th>\n",
       "      <td>3303.0</td>\n",
       "      <td>2.101726</td>\n",
       "      <td>1.558065</td>\n",
       "      <td>0.000000</td>\n",
       "      <td>1.000000</td>\n",
       "      <td>2.000000</td>\n",
       "      <td>3.000000</td>\n",
       "      <td>6.000000</td>\n",
       "    </tr>\n",
       "    <tr>\n",
       "      <th>hour</th>\n",
       "      <td>3303.0</td>\n",
       "      <td>11.482592</td>\n",
       "      <td>6.923891</td>\n",
       "      <td>0.000000</td>\n",
       "      <td>5.000000</td>\n",
       "      <td>11.000000</td>\n",
       "      <td>17.000000</td>\n",
       "      <td>23.000000</td>\n",
       "    </tr>\n",
       "    <tr>\n",
       "      <th>minute</th>\n",
       "      <td>3303.0</td>\n",
       "      <td>29.928853</td>\n",
       "      <td>17.328010</td>\n",
       "      <td>0.000000</td>\n",
       "      <td>15.000000</td>\n",
       "      <td>30.000000</td>\n",
       "      <td>45.500000</td>\n",
       "      <td>59.000000</td>\n",
       "    </tr>\n",
       "    <tr>\n",
       "      <th>open</th>\n",
       "      <td>3303.0</td>\n",
       "      <td>1.167841</td>\n",
       "      <td>0.009616</td>\n",
       "      <td>1.140280</td>\n",
       "      <td>1.162265</td>\n",
       "      <td>1.169670</td>\n",
       "      <td>1.175010</td>\n",
       "      <td>1.182310</td>\n",
       "    </tr>\n",
       "    <tr>\n",
       "      <th>high</th>\n",
       "      <td>3303.0</td>\n",
       "      <td>1.168131</td>\n",
       "      <td>0.009593</td>\n",
       "      <td>1.140520</td>\n",
       "      <td>1.162490</td>\n",
       "      <td>1.170050</td>\n",
       "      <td>1.175310</td>\n",
       "      <td>1.182980</td>\n",
       "    </tr>\n",
       "    <tr>\n",
       "      <th>low</th>\n",
       "      <td>3303.0</td>\n",
       "      <td>1.167559</td>\n",
       "      <td>0.009634</td>\n",
       "      <td>1.140080</td>\n",
       "      <td>1.162020</td>\n",
       "      <td>1.169330</td>\n",
       "      <td>1.174760</td>\n",
       "      <td>1.181850</td>\n",
       "    </tr>\n",
       "    <tr>\n",
       "      <th>close</th>\n",
       "      <td>3303.0</td>\n",
       "      <td>1.167841</td>\n",
       "      <td>0.009616</td>\n",
       "      <td>1.140280</td>\n",
       "      <td>1.162265</td>\n",
       "      <td>1.169670</td>\n",
       "      <td>1.175010</td>\n",
       "      <td>1.182310</td>\n",
       "    </tr>\n",
       "    <tr>\n",
       "      <th>momentum</th>\n",
       "      <td>3303.0</td>\n",
       "      <td>1.167841</td>\n",
       "      <td>0.009616</td>\n",
       "      <td>1.140280</td>\n",
       "      <td>1.162265</td>\n",
       "      <td>1.169670</td>\n",
       "      <td>1.175010</td>\n",
       "      <td>1.182310</td>\n",
       "    </tr>\n",
       "    <tr>\n",
       "      <th>avg</th>\n",
       "      <td>3303.0</td>\n",
       "      <td>1.167845</td>\n",
       "      <td>0.009611</td>\n",
       "      <td>1.140375</td>\n",
       "      <td>1.162245</td>\n",
       "      <td>1.169735</td>\n",
       "      <td>1.175028</td>\n",
       "      <td>1.182200</td>\n",
       "    </tr>\n",
       "    <tr>\n",
       "      <th>range</th>\n",
       "      <td>3303.0</td>\n",
       "      <td>0.000572</td>\n",
       "      <td>0.000432</td>\n",
       "      <td>0.000030</td>\n",
       "      <td>0.000330</td>\n",
       "      <td>0.000470</td>\n",
       "      <td>0.000690</td>\n",
       "      <td>0.008100</td>\n",
       "    </tr>\n",
       "    <tr>\n",
       "      <th>ohlc</th>\n",
       "      <td>3303.0</td>\n",
       "      <td>1.167843</td>\n",
       "      <td>0.009613</td>\n",
       "      <td>1.140332</td>\n",
       "      <td>1.162234</td>\n",
       "      <td>1.169700</td>\n",
       "      <td>1.175044</td>\n",
       "      <td>1.182245</td>\n",
       "    </tr>\n",
       "  </tbody>\n",
       "</table>\n",
       "</div>"
      ],
      "text/plain": [
       "           count       mean        std        min        25%        50%  \\\n",
       "week      3303.0  29.000303   1.351245  27.000000  28.000000  29.000000   \n",
       "day       3303.0   2.101726   1.558065   0.000000   1.000000   2.000000   \n",
       "hour      3303.0  11.482592   6.923891   0.000000   5.000000  11.000000   \n",
       "minute    3303.0  29.928853  17.328010   0.000000  15.000000  30.000000   \n",
       "open      3303.0   1.167841   0.009616   1.140280   1.162265   1.169670   \n",
       "high      3303.0   1.168131   0.009593   1.140520   1.162490   1.170050   \n",
       "low       3303.0   1.167559   0.009634   1.140080   1.162020   1.169330   \n",
       "close     3303.0   1.167841   0.009616   1.140280   1.162265   1.169670   \n",
       "momentum  3303.0   1.167841   0.009616   1.140280   1.162265   1.169670   \n",
       "avg       3303.0   1.167845   0.009611   1.140375   1.162245   1.169735   \n",
       "range     3303.0   0.000572   0.000432   0.000030   0.000330   0.000470   \n",
       "ohlc      3303.0   1.167843   0.009613   1.140332   1.162234   1.169700   \n",
       "\n",
       "                75%        max  \n",
       "week      30.000000  31.000000  \n",
       "day        3.000000   6.000000  \n",
       "hour      17.000000  23.000000  \n",
       "minute    45.500000  59.000000  \n",
       "open       1.175010   1.182310  \n",
       "high       1.175310   1.182980  \n",
       "low        1.174760   1.181850  \n",
       "close      1.175010   1.182310  \n",
       "momentum   1.175010   1.182310  \n",
       "avg        1.175028   1.182200  \n",
       "range      0.000690   0.008100  \n",
       "ohlc       1.175044   1.182245  "
      ]
     },
     "execution_count": 20,
     "metadata": {},
     "output_type": "execute_result"
    }
   ],
   "source": [
    "clean.describe().transpose()"
   ]
  },
  {
   "cell_type": "code",
   "execution_count": 21,
   "id": "11f84979-8b0c-489a-abcc-b49e6edd65d0",
   "metadata": {},
   "outputs": [
    {
     "name": "stdout",
     "output_type": "stream",
     "text": [
      "Index([   0,    1,    2,    3,    4,    5,    6,    7,    8,    9,\n",
      "       ...\n",
      "       3293, 3294, 3295, 3296, 3297, 3298, 3299, 3300, 3301, 3302],\n",
      "      dtype='int64', length=3303)\n"
     ]
    }
   ],
   "source": [
    "print(clean.index)"
   ]
  },
  {
   "cell_type": "markdown",
   "id": "1026d1c9-7374-403b-9baf-f76f26040d1a",
   "metadata": {
    "jp-MarkdownHeadingCollapsed": true
   },
   "source": [
    "## Normalization"
   ]
  },
  {
   "cell_type": "code",
   "execution_count": 22,
   "id": "69a37ef9-1f34-47ce-b761-8076671debe9",
   "metadata": {},
   "outputs": [],
   "source": [
    "split = int( (0.8*len(clean)) )\n",
    "train = clean[:split]\n",
    "test = clean[split:]"
   ]
  },
  {
   "cell_type": "code",
   "execution_count": 23,
   "id": "99f4d65f-bcf4-4f8a-b553-8aca5912a99c",
   "metadata": {},
   "outputs": [],
   "source": [
    "def to_normal_vector(value):\n",
    "    angle = value * math.pi * 2\n",
    "    x = math.sin(angle)\n",
    "    y = math.cos(angle)\n",
    "    x = (x + 1) / 2\n",
    "    y = (y + 1) / 2\n",
    "    return(x, y)"
   ]
  },
  {
   "cell_type": "code",
   "execution_count": 24,
   "id": "6fb2ed8d-de83-4292-8865-9a76179685c8",
   "metadata": {},
   "outputs": [
    {
     "name": "stdout",
     "output_type": "stream",
     "text": [
      "Pandas(Index=0, week=27.0, day=1.0, hour=0.0, minute=0.0, open=1.17891, high=1.17902, low=1.17858, close=1.17891, momentum=1.17891, avg=1.1787999999999998, range=0.00043999999999999595, ohlc=1.178855)\n"
     ]
    }
   ],
   "source": [
    "for row in clean.itertuples():\n",
    "    print(row)\n",
    "    break"
   ]
  },
  {
   "cell_type": "code",
   "execution_count": 25,
   "id": "6719b3d9-6d38-4d34-8869-ae0c8c76d0af",
   "metadata": {},
   "outputs": [],
   "source": [
    "def normalize_time(df):\n",
    "    time = pd.DataFrame(columns=['week_x', 'week_y', 'day_x', 'day_y',\n",
    "                                 'hour_x', 'hour_y', 'minute_x', 'minute_y'])\n",
    "\n",
    "    for row in df.itertuples():\n",
    "        week_ratio = row[1] / isoweek.Week.last_week_of_year(year).week\n",
    "        week = to_normal_vector(week_ratio)\n",
    "        day_ratio = row[2] / 7\n",
    "        day = to_normal_vector(day_ratio)\n",
    "        hour_ratio = row[3] / 24\n",
    "        hour = to_normal_vector(hour_ratio)\n",
    "        minute_ratio = row[4] / 6\n",
    "        minute = to_normal_vector(minute_ratio)\n",
    "    \n",
    "        new_row = [ week[0], week[1], day[0], day[1],\n",
    "                    hour[0], hour[1], minute[0], minute[1] ]\n",
    "        time.loc[len(time)] = new_row\n",
    "\n",
    "    return time"
   ]
  },
  {
   "cell_type": "code",
   "execution_count": 26,
   "id": "29e69977-1456-45b9-920b-9ba917e4af86",
   "metadata": {},
   "outputs": [
    {
     "name": "stdout",
     "output_type": "stream",
     "text": [
      "        week_x    week_y     day_x     day_y    hour_x    hour_y  minute_x  \\\n",
      "0     0.439732  0.003646  0.890916  0.811745  0.500000  1.000000  0.500000   \n",
      "1     0.439732  0.003646  0.890916  0.811745  0.500000  1.000000  0.066987   \n",
      "2     0.439732  0.003646  0.890916  0.811745  0.500000  1.000000  0.933013   \n",
      "3     0.439732  0.003646  0.890916  0.811745  0.500000  1.000000  0.500000   \n",
      "4     0.439732  0.003646  0.890916  0.811745  0.500000  1.000000  0.066987   \n",
      "...        ...       ...       ...       ...       ...       ...       ...   \n",
      "2637  0.267638  0.057272  0.283058  0.049516  0.933013  0.250000  0.500000   \n",
      "2638  0.267638  0.057272  0.283058  0.049516  0.933013  0.250000  0.066987   \n",
      "2639  0.267638  0.057272  0.283058  0.049516  0.853553  0.146447  0.933013   \n",
      "2640  0.267638  0.057272  0.283058  0.049516  0.853553  0.146447  0.500000   \n",
      "2641  0.267638  0.057272  0.283058  0.049516  0.853553  0.146447  0.066987   \n",
      "\n",
      "      minute_y  \n",
      "0         1.00  \n",
      "1         0.25  \n",
      "2         0.25  \n",
      "3         1.00  \n",
      "4         0.25  \n",
      "...        ...  \n",
      "2637      1.00  \n",
      "2638      0.25  \n",
      "2639      0.25  \n",
      "2640      1.00  \n",
      "2641      0.25  \n",
      "\n",
      "[2642 rows x 8 columns]\n"
     ]
    }
   ],
   "source": [
    "time = normalize_time(train)\n",
    "print(time)"
   ]
  },
  {
   "cell_type": "code",
   "execution_count": 27,
   "id": "b3f07a38-9e60-4ff4-ba27-ca8bbabe0d5f",
   "metadata": {
    "scrolled": true
   },
   "outputs": [
    {
     "name": "stdout",
     "output_type": "stream",
     "text": [
      "2642\n"
     ]
    }
   ],
   "source": [
    "print(len(time))"
   ]
  },
  {
   "cell_type": "code",
   "execution_count": 28,
   "id": "82cd8e17-f80c-4a99-83e8-5538b8a07f1d",
   "metadata": {},
   "outputs": [
    {
     "name": "stdout",
     "output_type": "stream",
     "text": [
      "<class 'pandas.core.frame.DataFrame'>\n"
     ]
    }
   ],
   "source": [
    "print(type(time))"
   ]
  },
  {
   "cell_type": "code",
   "execution_count": 29,
   "id": "0ee5aa91-dfbb-4a2c-972f-90eb3293602d",
   "metadata": {},
   "outputs": [],
   "source": [
    "price_columns = ['open', 'high', 'low', 'close',\n",
    "                'momentum', 'avg', 'range', 'ohlc']\n",
    "prices = train[price_columns]\n",
    "scaler = MinMaxScaler()\n",
    "scaler.set_output(transform='pandas')\n",
    "prices = scaler.fit_transform(prices)"
   ]
  },
  {
   "cell_type": "code",
   "execution_count": 30,
   "id": "51299545-550c-4c77-880b-2af6a735dd7d",
   "metadata": {},
   "outputs": [
    {
     "name": "stdout",
     "output_type": "stream",
     "text": [
      "          open      high       low     close  momentum       avg     range  \\\n",
      "0     0.867446  0.847281  0.875143  0.867446  0.867446  0.866510  0.050805   \n",
      "1     0.880702  0.858079  0.887743  0.880702  0.880702  0.878484  0.044610   \n",
      "2     0.872515  0.860779  0.891180  0.872515  0.872515  0.881625  0.042131   \n",
      "3     0.860039  0.848052  0.879343  0.860039  0.860039  0.869062  0.039653   \n",
      "4     0.857700  0.838797  0.869798  0.857700  0.857700  0.859442  0.040892   \n",
      "...        ...       ...       ...       ...       ...       ...       ...   \n",
      "2637  0.600390  0.585422  0.605956  0.600390  0.600390  0.594817  0.083024   \n",
      "2638  0.589084  0.579637  0.591065  0.589084  0.589084  0.584217  0.112763   \n",
      "2639  0.538012  0.580794  0.558228  0.538012  0.538012  0.567923  0.223048   \n",
      "2640  0.587914  0.596606  0.565483  0.587914  0.587914  0.579702  0.250310   \n",
      "2641  0.614425  0.615503  0.609393  0.614425  0.614425  0.611896  0.168525   \n",
      "\n",
      "          ohlc  \n",
      "0     0.867085  \n",
      "1     0.879729  \n",
      "2     0.877181  \n",
      "3     0.864634  \n",
      "4     0.858655  \n",
      "...        ...  \n",
      "2637  0.597138  \n",
      "2638  0.586160  \n",
      "2639  0.552343  \n",
      "2640  0.583317  \n",
      "2641  0.612723  \n",
      "\n",
      "[2642 rows x 8 columns]\n"
     ]
    }
   ],
   "source": [
    "print(prices)"
   ]
  },
  {
   "cell_type": "code",
   "execution_count": 31,
   "id": "de4b091f-e69e-4136-a25a-ae30d533b235",
   "metadata": {},
   "outputs": [
    {
     "name": "stdout",
     "output_type": "stream",
     "text": [
      "       week_x    week_y     day_x     day_y    hour_x    hour_y  minute_x  \\\n",
      "0    0.267638  0.057272  0.283058  0.049516  0.853553  0.146447  0.933013   \n",
      "1    0.267638  0.057272  0.283058  0.049516  0.853553  0.146447  0.500000   \n",
      "2    0.267638  0.057272  0.283058  0.049516  0.853553  0.146447  0.066987   \n",
      "3    0.267638  0.057272  0.283058  0.049516  0.750000  0.066987  0.933013   \n",
      "4    0.267638  0.057272  0.283058  0.049516  0.750000  0.066987  0.500000   \n",
      "..        ...       ...       ...       ...       ...       ...       ...   \n",
      "656  0.215968  0.088508  0.716942  0.049516  0.370590  0.982963  0.500000   \n",
      "657  0.215968  0.088508  0.716942  0.049516  0.370590  0.982963  0.066987   \n",
      "658  0.215968  0.088508  0.716942  0.049516  0.370590  0.982963  0.933013   \n",
      "659  0.215968  0.088508  0.716942  0.049516  0.370590  0.982963  0.500000   \n",
      "660  0.215968  0.088508  0.716942  0.049516  0.370590  0.982963  0.066987   \n",
      "\n",
      "     minute_y  \n",
      "0        0.25  \n",
      "1        1.00  \n",
      "2        0.25  \n",
      "3        0.25  \n",
      "4        1.00  \n",
      "..        ...  \n",
      "656      1.00  \n",
      "657      0.25  \n",
      "658      0.25  \n",
      "659      1.00  \n",
      "660      0.25  \n",
      "\n",
      "[661 rows x 8 columns]\n"
     ]
    }
   ],
   "source": [
    "test_time = normalize_time(test)\n",
    "print(test_time)"
   ]
  },
  {
   "cell_type": "code",
   "execution_count": 32,
   "id": "d17b2d6e-9f9f-4ab7-9c44-2b84935ab995",
   "metadata": {},
   "outputs": [],
   "source": [
    "test_prices = test[price_columns]\n",
    "test_prices = scaler.transform(test_prices)\n",
    "test_prices.reset_index(inplace=True, drop=True)"
   ]
  },
  {
   "cell_type": "code",
   "execution_count": 33,
   "id": "557c6a90-18a7-4dc8-977e-d56081ace021",
   "metadata": {},
   "outputs": [
    {
     "name": "stdout",
     "output_type": "stream",
     "text": [
      "         open      high       low     close  momentum       avg     range  \\\n",
      "0    0.582066  0.595449  0.599847  0.582066  0.582066  0.596781  0.135068   \n",
      "1    0.562183  0.575781  0.567010  0.562183  0.562183  0.569886  0.178439   \n",
      "2    0.597661  0.578481  0.581520  0.597661  0.597661  0.578720  0.140025   \n",
      "3    0.622612  0.610490  0.610920  0.622612  0.622612  0.610130  0.147460   \n",
      "4    0.630409  0.615118  0.642612  0.630409  0.630409  0.628779  0.059480   \n",
      "..        ...       ...       ...       ...       ...       ...       ...   \n",
      "656 -0.580117 -0.571924 -0.558992 -0.580117 -0.580117 -0.593247  0.144981   \n",
      "657 -0.579337 -0.573081 -0.530355 -0.579337 -0.579337 -0.579113  0.048327   \n",
      "658 -0.586745 -0.586965 -0.539901 -0.586745 -0.586745 -0.591088  0.034696   \n",
      "659 -0.580897 -0.588508 -0.546392 -0.580897 -0.580897 -0.595210  0.050805   \n",
      "660 -0.571540 -0.576552 -0.534173 -0.571540 -0.571540 -0.582843  0.049566   \n",
      "\n",
      "         ohlc  \n",
      "0    0.588904  \n",
      "1    0.565477  \n",
      "2    0.587728  \n",
      "3    0.615958  \n",
      "4    0.629190  \n",
      "..        ...  \n",
      "656 -0.589688  \n",
      "657 -0.582239  \n",
      "658 -0.591943  \n",
      "659 -0.591061  \n",
      "660 -0.580180  \n",
      "\n",
      "[661 rows x 8 columns]\n"
     ]
    }
   ],
   "source": [
    "print(test_prices)"
   ]
  },
  {
   "cell_type": "code",
   "execution_count": 34,
   "id": "6beffb34-eae6-477e-bf24-2d2dfee05919",
   "metadata": {},
   "outputs": [],
   "source": [
    "norm_test = pd.concat([test_time, test_prices], axis=1)"
   ]
  },
  {
   "cell_type": "code",
   "execution_count": 35,
   "id": "5ea16d9f-bc3f-4438-9050-79a9db31d9f9",
   "metadata": {},
   "outputs": [
    {
     "name": "stdout",
     "output_type": "stream",
     "text": [
      "       week_x    week_y     day_x     day_y    hour_x    hour_y  minute_x  \\\n",
      "0    0.267638  0.057272  0.283058  0.049516  0.853553  0.146447  0.933013   \n",
      "1    0.267638  0.057272  0.283058  0.049516  0.853553  0.146447  0.500000   \n",
      "2    0.267638  0.057272  0.283058  0.049516  0.853553  0.146447  0.066987   \n",
      "3    0.267638  0.057272  0.283058  0.049516  0.750000  0.066987  0.933013   \n",
      "4    0.267638  0.057272  0.283058  0.049516  0.750000  0.066987  0.500000   \n",
      "..        ...       ...       ...       ...       ...       ...       ...   \n",
      "656  0.215968  0.088508  0.716942  0.049516  0.370590  0.982963  0.500000   \n",
      "657  0.215968  0.088508  0.716942  0.049516  0.370590  0.982963  0.066987   \n",
      "658  0.215968  0.088508  0.716942  0.049516  0.370590  0.982963  0.933013   \n",
      "659  0.215968  0.088508  0.716942  0.049516  0.370590  0.982963  0.500000   \n",
      "660  0.215968  0.088508  0.716942  0.049516  0.370590  0.982963  0.066987   \n",
      "\n",
      "     minute_y      open      high       low     close  momentum       avg  \\\n",
      "0        0.25  0.582066  0.595449  0.599847  0.582066  0.582066  0.596781   \n",
      "1        1.00  0.562183  0.575781  0.567010  0.562183  0.562183  0.569886   \n",
      "2        0.25  0.597661  0.578481  0.581520  0.597661  0.597661  0.578720   \n",
      "3        0.25  0.622612  0.610490  0.610920  0.622612  0.622612  0.610130   \n",
      "4        1.00  0.630409  0.615118  0.642612  0.630409  0.630409  0.628779   \n",
      "..        ...       ...       ...       ...       ...       ...       ...   \n",
      "656      1.00 -0.580117 -0.571924 -0.558992 -0.580117 -0.580117 -0.593247   \n",
      "657      0.25 -0.579337 -0.573081 -0.530355 -0.579337 -0.579337 -0.579113   \n",
      "658      0.25 -0.586745 -0.586965 -0.539901 -0.586745 -0.586745 -0.591088   \n",
      "659      1.00 -0.580897 -0.588508 -0.546392 -0.580897 -0.580897 -0.595210   \n",
      "660      0.25 -0.571540 -0.576552 -0.534173 -0.571540 -0.571540 -0.582843   \n",
      "\n",
      "        range      ohlc  \n",
      "0    0.135068  0.588904  \n",
      "1    0.178439  0.565477  \n",
      "2    0.140025  0.587728  \n",
      "3    0.147460  0.615958  \n",
      "4    0.059480  0.629190  \n",
      "..        ...       ...  \n",
      "656  0.144981 -0.589688  \n",
      "657  0.048327 -0.582239  \n",
      "658  0.034696 -0.591943  \n",
      "659  0.050805 -0.591061  \n",
      "660  0.049566 -0.580180  \n",
      "\n",
      "[661 rows x 16 columns]\n"
     ]
    }
   ],
   "source": [
    "print(norm_test)"
   ]
  },
  {
   "cell_type": "code",
   "execution_count": 36,
   "id": "df546e71-7ae4-4917-a026-69526c35dd79",
   "metadata": {},
   "outputs": [
    {
     "name": "stdout",
     "output_type": "stream",
     "text": [
      "2642\n"
     ]
    }
   ],
   "source": [
    "print(len(prices))"
   ]
  },
  {
   "cell_type": "code",
   "execution_count": 37,
   "id": "dee3c613-928f-4d54-bc6e-f9e5c2b928c9",
   "metadata": {},
   "outputs": [
    {
     "name": "stdout",
     "output_type": "stream",
     "text": [
      "<class 'pandas.core.frame.DataFrame'>\n"
     ]
    }
   ],
   "source": [
    "print(type(prices))"
   ]
  },
  {
   "cell_type": "code",
   "execution_count": 38,
   "id": "4a9d0128-3c35-41ad-a4cb-040103040447",
   "metadata": {},
   "outputs": [
    {
     "name": "stdout",
     "output_type": "stream",
     "text": [
      "          open      high       low     close  momentum       avg     range  \\\n",
      "0     0.867446  0.847281  0.875143  0.867446  0.867446  0.866510  0.050805   \n",
      "1     0.880702  0.858079  0.887743  0.880702  0.880702  0.878484  0.044610   \n",
      "2     0.872515  0.860779  0.891180  0.872515  0.872515  0.881625  0.042131   \n",
      "3     0.860039  0.848052  0.879343  0.860039  0.860039  0.869062  0.039653   \n",
      "4     0.857700  0.838797  0.869798  0.857700  0.857700  0.859442  0.040892   \n",
      "...        ...       ...       ...       ...       ...       ...       ...   \n",
      "2637  0.600390  0.585422  0.605956  0.600390  0.600390  0.594817  0.083024   \n",
      "2638  0.589084  0.579637  0.591065  0.589084  0.589084  0.584217  0.112763   \n",
      "2639  0.538012  0.580794  0.558228  0.538012  0.538012  0.567923  0.223048   \n",
      "2640  0.587914  0.596606  0.565483  0.587914  0.587914  0.579702  0.250310   \n",
      "2641  0.614425  0.615503  0.609393  0.614425  0.614425  0.611896  0.168525   \n",
      "\n",
      "          ohlc  \n",
      "0     0.867085  \n",
      "1     0.879729  \n",
      "2     0.877181  \n",
      "3     0.864634  \n",
      "4     0.858655  \n",
      "...        ...  \n",
      "2637  0.597138  \n",
      "2638  0.586160  \n",
      "2639  0.552343  \n",
      "2640  0.583317  \n",
      "2641  0.612723  \n",
      "\n",
      "[2642 rows x 8 columns]\n"
     ]
    }
   ],
   "source": [
    "print(prices)"
   ]
  },
  {
   "cell_type": "code",
   "execution_count": 39,
   "id": "620d9bde-e642-455c-be13-74fd8ab3d82e",
   "metadata": {},
   "outputs": [],
   "source": [
    "norm_train = pd.concat([time, prices], axis=1)"
   ]
  },
  {
   "cell_type": "code",
   "execution_count": 40,
   "id": "15d77aa1-291e-4881-b82d-345d692874c2",
   "metadata": {},
   "outputs": [
    {
     "name": "stdout",
     "output_type": "stream",
     "text": [
      "        week_x    week_y     day_x     day_y    hour_x    hour_y  minute_x  \\\n",
      "0     0.439732  0.003646  0.890916  0.811745  0.500000  1.000000  0.500000   \n",
      "1     0.439732  0.003646  0.890916  0.811745  0.500000  1.000000  0.066987   \n",
      "2     0.439732  0.003646  0.890916  0.811745  0.500000  1.000000  0.933013   \n",
      "3     0.439732  0.003646  0.890916  0.811745  0.500000  1.000000  0.500000   \n",
      "4     0.439732  0.003646  0.890916  0.811745  0.500000  1.000000  0.066987   \n",
      "...        ...       ...       ...       ...       ...       ...       ...   \n",
      "2637  0.267638  0.057272  0.283058  0.049516  0.933013  0.250000  0.500000   \n",
      "2638  0.267638  0.057272  0.283058  0.049516  0.933013  0.250000  0.066987   \n",
      "2639  0.267638  0.057272  0.283058  0.049516  0.853553  0.146447  0.933013   \n",
      "2640  0.267638  0.057272  0.283058  0.049516  0.853553  0.146447  0.500000   \n",
      "2641  0.267638  0.057272  0.283058  0.049516  0.853553  0.146447  0.066987   \n",
      "\n",
      "      minute_y      open      high       low     close  momentum       avg  \\\n",
      "0         1.00  0.867446  0.847281  0.875143  0.867446  0.867446  0.866510   \n",
      "1         0.25  0.880702  0.858079  0.887743  0.880702  0.880702  0.878484   \n",
      "2         0.25  0.872515  0.860779  0.891180  0.872515  0.872515  0.881625   \n",
      "3         1.00  0.860039  0.848052  0.879343  0.860039  0.860039  0.869062   \n",
      "4         0.25  0.857700  0.838797  0.869798  0.857700  0.857700  0.859442   \n",
      "...        ...       ...       ...       ...       ...       ...       ...   \n",
      "2637      1.00  0.600390  0.585422  0.605956  0.600390  0.600390  0.594817   \n",
      "2638      0.25  0.589084  0.579637  0.591065  0.589084  0.589084  0.584217   \n",
      "2639      0.25  0.538012  0.580794  0.558228  0.538012  0.538012  0.567923   \n",
      "2640      1.00  0.587914  0.596606  0.565483  0.587914  0.587914  0.579702   \n",
      "2641      0.25  0.614425  0.615503  0.609393  0.614425  0.614425  0.611896   \n",
      "\n",
      "         range      ohlc  \n",
      "0     0.050805  0.867085  \n",
      "1     0.044610  0.879729  \n",
      "2     0.042131  0.877181  \n",
      "3     0.039653  0.864634  \n",
      "4     0.040892  0.858655  \n",
      "...        ...       ...  \n",
      "2637  0.083024  0.597138  \n",
      "2638  0.112763  0.586160  \n",
      "2639  0.223048  0.552343  \n",
      "2640  0.250310  0.583317  \n",
      "2641  0.168525  0.612723  \n",
      "\n",
      "[2642 rows x 16 columns]\n"
     ]
    }
   ],
   "source": [
    "print(norm_train)"
   ]
  },
  {
   "cell_type": "markdown",
   "id": "d8bb0ea7-1c46-4253-bc6e-97afcf93251f",
   "metadata": {},
   "source": [
    "## Sequencing"
   ]
  },
  {
   "cell_type": "code",
   "execution_count": 41,
   "id": "80a144fa-8136-459c-9967-49274d3d5738",
   "metadata": {},
   "outputs": [
    {
     "data": {
      "text/html": [
       "<div>\n",
       "<style scoped>\n",
       "    .dataframe tbody tr th:only-of-type {\n",
       "        vertical-align: middle;\n",
       "    }\n",
       "\n",
       "    .dataframe tbody tr th {\n",
       "        vertical-align: top;\n",
       "    }\n",
       "\n",
       "    .dataframe thead th {\n",
       "        text-align: right;\n",
       "    }\n",
       "</style>\n",
       "<table border=\"1\" class=\"dataframe\">\n",
       "  <thead>\n",
       "    <tr style=\"text-align: right;\">\n",
       "      <th></th>\n",
       "      <th>week_x</th>\n",
       "      <th>week_y</th>\n",
       "      <th>day_x</th>\n",
       "      <th>day_y</th>\n",
       "      <th>hour_x</th>\n",
       "      <th>hour_y</th>\n",
       "      <th>minute_x</th>\n",
       "      <th>minute_y</th>\n",
       "      <th>open</th>\n",
       "      <th>high</th>\n",
       "      <th>low</th>\n",
       "      <th>close</th>\n",
       "      <th>momentum</th>\n",
       "      <th>avg</th>\n",
       "      <th>range</th>\n",
       "      <th>ohlc</th>\n",
       "    </tr>\n",
       "  </thead>\n",
       "  <tbody>\n",
       "    <tr>\n",
       "      <th>0</th>\n",
       "      <td>0.439732</td>\n",
       "      <td>0.003646</td>\n",
       "      <td>0.890916</td>\n",
       "      <td>0.811745</td>\n",
       "      <td>0.50000</td>\n",
       "      <td>1.000000</td>\n",
       "      <td>0.500000</td>\n",
       "      <td>1.00</td>\n",
       "      <td>0.867446</td>\n",
       "      <td>0.847281</td>\n",
       "      <td>0.875143</td>\n",
       "      <td>0.867446</td>\n",
       "      <td>0.867446</td>\n",
       "      <td>0.866510</td>\n",
       "      <td>0.050805</td>\n",
       "      <td>0.867085</td>\n",
       "    </tr>\n",
       "    <tr>\n",
       "      <th>1</th>\n",
       "      <td>0.439732</td>\n",
       "      <td>0.003646</td>\n",
       "      <td>0.890916</td>\n",
       "      <td>0.811745</td>\n",
       "      <td>0.50000</td>\n",
       "      <td>1.000000</td>\n",
       "      <td>0.066987</td>\n",
       "      <td>0.25</td>\n",
       "      <td>0.880702</td>\n",
       "      <td>0.858079</td>\n",
       "      <td>0.887743</td>\n",
       "      <td>0.880702</td>\n",
       "      <td>0.880702</td>\n",
       "      <td>0.878484</td>\n",
       "      <td>0.044610</td>\n",
       "      <td>0.879729</td>\n",
       "    </tr>\n",
       "    <tr>\n",
       "      <th>2</th>\n",
       "      <td>0.439732</td>\n",
       "      <td>0.003646</td>\n",
       "      <td>0.890916</td>\n",
       "      <td>0.811745</td>\n",
       "      <td>0.50000</td>\n",
       "      <td>1.000000</td>\n",
       "      <td>0.933013</td>\n",
       "      <td>0.25</td>\n",
       "      <td>0.872515</td>\n",
       "      <td>0.860779</td>\n",
       "      <td>0.891180</td>\n",
       "      <td>0.872515</td>\n",
       "      <td>0.872515</td>\n",
       "      <td>0.881625</td>\n",
       "      <td>0.042131</td>\n",
       "      <td>0.877181</td>\n",
       "    </tr>\n",
       "    <tr>\n",
       "      <th>3</th>\n",
       "      <td>0.439732</td>\n",
       "      <td>0.003646</td>\n",
       "      <td>0.890916</td>\n",
       "      <td>0.811745</td>\n",
       "      <td>0.50000</td>\n",
       "      <td>1.000000</td>\n",
       "      <td>0.500000</td>\n",
       "      <td>1.00</td>\n",
       "      <td>0.860039</td>\n",
       "      <td>0.848052</td>\n",
       "      <td>0.879343</td>\n",
       "      <td>0.860039</td>\n",
       "      <td>0.860039</td>\n",
       "      <td>0.869062</td>\n",
       "      <td>0.039653</td>\n",
       "      <td>0.864634</td>\n",
       "    </tr>\n",
       "    <tr>\n",
       "      <th>4</th>\n",
       "      <td>0.439732</td>\n",
       "      <td>0.003646</td>\n",
       "      <td>0.890916</td>\n",
       "      <td>0.811745</td>\n",
       "      <td>0.50000</td>\n",
       "      <td>1.000000</td>\n",
       "      <td>0.066987</td>\n",
       "      <td>0.25</td>\n",
       "      <td>0.857700</td>\n",
       "      <td>0.838797</td>\n",
       "      <td>0.869798</td>\n",
       "      <td>0.857700</td>\n",
       "      <td>0.857700</td>\n",
       "      <td>0.859442</td>\n",
       "      <td>0.040892</td>\n",
       "      <td>0.858655</td>\n",
       "    </tr>\n",
       "    <tr>\n",
       "      <th>5</th>\n",
       "      <td>0.439732</td>\n",
       "      <td>0.003646</td>\n",
       "      <td>0.890916</td>\n",
       "      <td>0.811745</td>\n",
       "      <td>0.50000</td>\n",
       "      <td>1.000000</td>\n",
       "      <td>0.933013</td>\n",
       "      <td>0.25</td>\n",
       "      <td>0.856140</td>\n",
       "      <td>0.833012</td>\n",
       "      <td>0.862925</td>\n",
       "      <td>0.856140</td>\n",
       "      <td>0.856140</td>\n",
       "      <td>0.852964</td>\n",
       "      <td>0.044610</td>\n",
       "      <td>0.854636</td>\n",
       "    </tr>\n",
       "    <tr>\n",
       "      <th>6</th>\n",
       "      <td>0.439732</td>\n",
       "      <td>0.003646</td>\n",
       "      <td>0.890916</td>\n",
       "      <td>0.811745</td>\n",
       "      <td>0.62941</td>\n",
       "      <td>0.982963</td>\n",
       "      <td>0.500000</td>\n",
       "      <td>1.00</td>\n",
       "      <td>0.853801</td>\n",
       "      <td>0.837640</td>\n",
       "      <td>0.871325</td>\n",
       "      <td>0.853801</td>\n",
       "      <td>0.853801</td>\n",
       "      <td>0.859639</td>\n",
       "      <td>0.032218</td>\n",
       "      <td>0.856793</td>\n",
       "    </tr>\n",
       "    <tr>\n",
       "      <th>7</th>\n",
       "      <td>0.439732</td>\n",
       "      <td>0.003646</td>\n",
       "      <td>0.890916</td>\n",
       "      <td>0.811745</td>\n",
       "      <td>0.62941</td>\n",
       "      <td>0.982963</td>\n",
       "      <td>0.066987</td>\n",
       "      <td>0.25</td>\n",
       "      <td>0.842885</td>\n",
       "      <td>0.834555</td>\n",
       "      <td>0.861779</td>\n",
       "      <td>0.842885</td>\n",
       "      <td>0.842885</td>\n",
       "      <td>0.853161</td>\n",
       "      <td>0.053284</td>\n",
       "      <td>0.848069</td>\n",
       "    </tr>\n",
       "    <tr>\n",
       "      <th>8</th>\n",
       "      <td>0.439732</td>\n",
       "      <td>0.003646</td>\n",
       "      <td>0.890916</td>\n",
       "      <td>0.811745</td>\n",
       "      <td>0.62941</td>\n",
       "      <td>0.982963</td>\n",
       "      <td>0.933013</td>\n",
       "      <td>0.25</td>\n",
       "      <td>0.859649</td>\n",
       "      <td>0.838025</td>\n",
       "      <td>0.862543</td>\n",
       "      <td>0.859649</td>\n",
       "      <td>0.859649</td>\n",
       "      <td>0.855320</td>\n",
       "      <td>0.061958</td>\n",
       "      <td>0.857577</td>\n",
       "    </tr>\n",
       "    <tr>\n",
       "      <th>9</th>\n",
       "      <td>0.439732</td>\n",
       "      <td>0.003646</td>\n",
       "      <td>0.890916</td>\n",
       "      <td>0.811745</td>\n",
       "      <td>0.62941</td>\n",
       "      <td>0.982963</td>\n",
       "      <td>0.500000</td>\n",
       "      <td>1.00</td>\n",
       "      <td>0.856530</td>\n",
       "      <td>0.844196</td>\n",
       "      <td>0.876670</td>\n",
       "      <td>0.856530</td>\n",
       "      <td>0.856530</td>\n",
       "      <td>0.865724</td>\n",
       "      <td>0.035936</td>\n",
       "      <td>0.861204</td>\n",
       "    </tr>\n",
       "  </tbody>\n",
       "</table>\n",
       "</div>"
      ],
      "text/plain": [
       "     week_x    week_y     day_x     day_y   hour_x    hour_y  minute_x  \\\n",
       "0  0.439732  0.003646  0.890916  0.811745  0.50000  1.000000  0.500000   \n",
       "1  0.439732  0.003646  0.890916  0.811745  0.50000  1.000000  0.066987   \n",
       "2  0.439732  0.003646  0.890916  0.811745  0.50000  1.000000  0.933013   \n",
       "3  0.439732  0.003646  0.890916  0.811745  0.50000  1.000000  0.500000   \n",
       "4  0.439732  0.003646  0.890916  0.811745  0.50000  1.000000  0.066987   \n",
       "5  0.439732  0.003646  0.890916  0.811745  0.50000  1.000000  0.933013   \n",
       "6  0.439732  0.003646  0.890916  0.811745  0.62941  0.982963  0.500000   \n",
       "7  0.439732  0.003646  0.890916  0.811745  0.62941  0.982963  0.066987   \n",
       "8  0.439732  0.003646  0.890916  0.811745  0.62941  0.982963  0.933013   \n",
       "9  0.439732  0.003646  0.890916  0.811745  0.62941  0.982963  0.500000   \n",
       "\n",
       "   minute_y      open      high       low     close  momentum       avg  \\\n",
       "0      1.00  0.867446  0.847281  0.875143  0.867446  0.867446  0.866510   \n",
       "1      0.25  0.880702  0.858079  0.887743  0.880702  0.880702  0.878484   \n",
       "2      0.25  0.872515  0.860779  0.891180  0.872515  0.872515  0.881625   \n",
       "3      1.00  0.860039  0.848052  0.879343  0.860039  0.860039  0.869062   \n",
       "4      0.25  0.857700  0.838797  0.869798  0.857700  0.857700  0.859442   \n",
       "5      0.25  0.856140  0.833012  0.862925  0.856140  0.856140  0.852964   \n",
       "6      1.00  0.853801  0.837640  0.871325  0.853801  0.853801  0.859639   \n",
       "7      0.25  0.842885  0.834555  0.861779  0.842885  0.842885  0.853161   \n",
       "8      0.25  0.859649  0.838025  0.862543  0.859649  0.859649  0.855320   \n",
       "9      1.00  0.856530  0.844196  0.876670  0.856530  0.856530  0.865724   \n",
       "\n",
       "      range      ohlc  \n",
       "0  0.050805  0.867085  \n",
       "1  0.044610  0.879729  \n",
       "2  0.042131  0.877181  \n",
       "3  0.039653  0.864634  \n",
       "4  0.040892  0.858655  \n",
       "5  0.044610  0.854636  \n",
       "6  0.032218  0.856793  \n",
       "7  0.053284  0.848069  \n",
       "8  0.061958  0.857577  \n",
       "9  0.035936  0.861204  "
      ]
     },
     "execution_count": 41,
     "metadata": {},
     "output_type": "execute_result"
    }
   ],
   "source": [
    "norm_train.head(10)"
   ]
  },
  {
   "cell_type": "code",
   "execution_count": 42,
   "id": "302a9f18-04f0-446d-b6f6-6aa42e03df05",
   "metadata": {
    "scrolled": true
   },
   "outputs": [
    {
     "data": {
      "text/html": [
       "<div>\n",
       "<style scoped>\n",
       "    .dataframe tbody tr th:only-of-type {\n",
       "        vertical-align: middle;\n",
       "    }\n",
       "\n",
       "    .dataframe tbody tr th {\n",
       "        vertical-align: top;\n",
       "    }\n",
       "\n",
       "    .dataframe thead th {\n",
       "        text-align: right;\n",
       "    }\n",
       "</style>\n",
       "<table border=\"1\" class=\"dataframe\">\n",
       "  <thead>\n",
       "    <tr style=\"text-align: right;\">\n",
       "      <th></th>\n",
       "      <th>week_x</th>\n",
       "      <th>week_y</th>\n",
       "      <th>day_x</th>\n",
       "      <th>day_y</th>\n",
       "      <th>hour_x</th>\n",
       "      <th>hour_y</th>\n",
       "      <th>minute_x</th>\n",
       "      <th>minute_y</th>\n",
       "      <th>open</th>\n",
       "      <th>high</th>\n",
       "      <th>low</th>\n",
       "      <th>close</th>\n",
       "      <th>momentum</th>\n",
       "      <th>avg</th>\n",
       "      <th>range</th>\n",
       "      <th>ohlc</th>\n",
       "    </tr>\n",
       "  </thead>\n",
       "  <tbody>\n",
       "    <tr>\n",
       "      <th>0</th>\n",
       "      <td>0.267638</td>\n",
       "      <td>0.057272</td>\n",
       "      <td>0.283058</td>\n",
       "      <td>0.049516</td>\n",
       "      <td>0.853553</td>\n",
       "      <td>0.146447</td>\n",
       "      <td>0.933013</td>\n",
       "      <td>0.25</td>\n",
       "      <td>0.582066</td>\n",
       "      <td>0.595449</td>\n",
       "      <td>0.599847</td>\n",
       "      <td>0.582066</td>\n",
       "      <td>0.582066</td>\n",
       "      <td>0.596781</td>\n",
       "      <td>0.135068</td>\n",
       "      <td>0.588904</td>\n",
       "    </tr>\n",
       "    <tr>\n",
       "      <th>1</th>\n",
       "      <td>0.267638</td>\n",
       "      <td>0.057272</td>\n",
       "      <td>0.283058</td>\n",
       "      <td>0.049516</td>\n",
       "      <td>0.853553</td>\n",
       "      <td>0.146447</td>\n",
       "      <td>0.500000</td>\n",
       "      <td>1.00</td>\n",
       "      <td>0.562183</td>\n",
       "      <td>0.575781</td>\n",
       "      <td>0.567010</td>\n",
       "      <td>0.562183</td>\n",
       "      <td>0.562183</td>\n",
       "      <td>0.569886</td>\n",
       "      <td>0.178439</td>\n",
       "      <td>0.565477</td>\n",
       "    </tr>\n",
       "    <tr>\n",
       "      <th>2</th>\n",
       "      <td>0.267638</td>\n",
       "      <td>0.057272</td>\n",
       "      <td>0.283058</td>\n",
       "      <td>0.049516</td>\n",
       "      <td>0.853553</td>\n",
       "      <td>0.146447</td>\n",
       "      <td>0.066987</td>\n",
       "      <td>0.25</td>\n",
       "      <td>0.597661</td>\n",
       "      <td>0.578481</td>\n",
       "      <td>0.581520</td>\n",
       "      <td>0.597661</td>\n",
       "      <td>0.597661</td>\n",
       "      <td>0.578720</td>\n",
       "      <td>0.140025</td>\n",
       "      <td>0.587728</td>\n",
       "    </tr>\n",
       "    <tr>\n",
       "      <th>3</th>\n",
       "      <td>0.267638</td>\n",
       "      <td>0.057272</td>\n",
       "      <td>0.283058</td>\n",
       "      <td>0.049516</td>\n",
       "      <td>0.750000</td>\n",
       "      <td>0.066987</td>\n",
       "      <td>0.933013</td>\n",
       "      <td>0.25</td>\n",
       "      <td>0.622612</td>\n",
       "      <td>0.610490</td>\n",
       "      <td>0.610920</td>\n",
       "      <td>0.622612</td>\n",
       "      <td>0.622612</td>\n",
       "      <td>0.610130</td>\n",
       "      <td>0.147460</td>\n",
       "      <td>0.615958</td>\n",
       "    </tr>\n",
       "    <tr>\n",
       "      <th>4</th>\n",
       "      <td>0.267638</td>\n",
       "      <td>0.057272</td>\n",
       "      <td>0.283058</td>\n",
       "      <td>0.049516</td>\n",
       "      <td>0.750000</td>\n",
       "      <td>0.066987</td>\n",
       "      <td>0.500000</td>\n",
       "      <td>1.00</td>\n",
       "      <td>0.630409</td>\n",
       "      <td>0.615118</td>\n",
       "      <td>0.642612</td>\n",
       "      <td>0.630409</td>\n",
       "      <td>0.630409</td>\n",
       "      <td>0.628779</td>\n",
       "      <td>0.059480</td>\n",
       "      <td>0.629190</td>\n",
       "    </tr>\n",
       "    <tr>\n",
       "      <th>5</th>\n",
       "      <td>0.267638</td>\n",
       "      <td>0.057272</td>\n",
       "      <td>0.283058</td>\n",
       "      <td>0.049516</td>\n",
       "      <td>0.750000</td>\n",
       "      <td>0.066987</td>\n",
       "      <td>0.066987</td>\n",
       "      <td>0.25</td>\n",
       "      <td>0.654581</td>\n",
       "      <td>0.635557</td>\n",
       "      <td>0.654066</td>\n",
       "      <td>0.654581</td>\n",
       "      <td>0.654581</td>\n",
       "      <td>0.645073</td>\n",
       "      <td>0.087980</td>\n",
       "      <td>0.649480</td>\n",
       "    </tr>\n",
       "    <tr>\n",
       "      <th>6</th>\n",
       "      <td>0.267638</td>\n",
       "      <td>0.057272</td>\n",
       "      <td>0.283058</td>\n",
       "      <td>0.049516</td>\n",
       "      <td>0.750000</td>\n",
       "      <td>0.066987</td>\n",
       "      <td>0.933013</td>\n",
       "      <td>0.25</td>\n",
       "      <td>0.650292</td>\n",
       "      <td>0.634015</td>\n",
       "      <td>0.654830</td>\n",
       "      <td>0.650292</td>\n",
       "      <td>0.650292</td>\n",
       "      <td>0.644680</td>\n",
       "      <td>0.080545</td>\n",
       "      <td>0.647128</td>\n",
       "    </tr>\n",
       "    <tr>\n",
       "      <th>7</th>\n",
       "      <td>0.267638</td>\n",
       "      <td>0.057272</td>\n",
       "      <td>0.283058</td>\n",
       "      <td>0.049516</td>\n",
       "      <td>0.750000</td>\n",
       "      <td>0.066987</td>\n",
       "      <td>0.500000</td>\n",
       "      <td>1.00</td>\n",
       "      <td>0.638207</td>\n",
       "      <td>0.630544</td>\n",
       "      <td>0.648339</td>\n",
       "      <td>0.638207</td>\n",
       "      <td>0.638207</td>\n",
       "      <td>0.639576</td>\n",
       "      <td>0.090458</td>\n",
       "      <td>0.638502</td>\n",
       "    </tr>\n",
       "    <tr>\n",
       "      <th>8</th>\n",
       "      <td>0.267638</td>\n",
       "      <td>0.057272</td>\n",
       "      <td>0.283058</td>\n",
       "      <td>0.049516</td>\n",
       "      <td>0.750000</td>\n",
       "      <td>0.066987</td>\n",
       "      <td>0.066987</td>\n",
       "      <td>0.25</td>\n",
       "      <td>0.634698</td>\n",
       "      <td>0.625530</td>\n",
       "      <td>0.649103</td>\n",
       "      <td>0.634698</td>\n",
       "      <td>0.634698</td>\n",
       "      <td>0.637417</td>\n",
       "      <td>0.071871</td>\n",
       "      <td>0.635660</td>\n",
       "    </tr>\n",
       "    <tr>\n",
       "      <th>9</th>\n",
       "      <td>0.267638</td>\n",
       "      <td>0.057272</td>\n",
       "      <td>0.283058</td>\n",
       "      <td>0.049516</td>\n",
       "      <td>0.629410</td>\n",
       "      <td>0.017037</td>\n",
       "      <td>0.933013</td>\n",
       "      <td>0.25</td>\n",
       "      <td>0.627290</td>\n",
       "      <td>0.618974</td>\n",
       "      <td>0.652539</td>\n",
       "      <td>0.627290</td>\n",
       "      <td>0.627290</td>\n",
       "      <td>0.635846</td>\n",
       "      <td>0.039653</td>\n",
       "      <td>0.631151</td>\n",
       "    </tr>\n",
       "  </tbody>\n",
       "</table>\n",
       "</div>"
      ],
      "text/plain": [
       "     week_x    week_y     day_x     day_y    hour_x    hour_y  minute_x  \\\n",
       "0  0.267638  0.057272  0.283058  0.049516  0.853553  0.146447  0.933013   \n",
       "1  0.267638  0.057272  0.283058  0.049516  0.853553  0.146447  0.500000   \n",
       "2  0.267638  0.057272  0.283058  0.049516  0.853553  0.146447  0.066987   \n",
       "3  0.267638  0.057272  0.283058  0.049516  0.750000  0.066987  0.933013   \n",
       "4  0.267638  0.057272  0.283058  0.049516  0.750000  0.066987  0.500000   \n",
       "5  0.267638  0.057272  0.283058  0.049516  0.750000  0.066987  0.066987   \n",
       "6  0.267638  0.057272  0.283058  0.049516  0.750000  0.066987  0.933013   \n",
       "7  0.267638  0.057272  0.283058  0.049516  0.750000  0.066987  0.500000   \n",
       "8  0.267638  0.057272  0.283058  0.049516  0.750000  0.066987  0.066987   \n",
       "9  0.267638  0.057272  0.283058  0.049516  0.629410  0.017037  0.933013   \n",
       "\n",
       "   minute_y      open      high       low     close  momentum       avg  \\\n",
       "0      0.25  0.582066  0.595449  0.599847  0.582066  0.582066  0.596781   \n",
       "1      1.00  0.562183  0.575781  0.567010  0.562183  0.562183  0.569886   \n",
       "2      0.25  0.597661  0.578481  0.581520  0.597661  0.597661  0.578720   \n",
       "3      0.25  0.622612  0.610490  0.610920  0.622612  0.622612  0.610130   \n",
       "4      1.00  0.630409  0.615118  0.642612  0.630409  0.630409  0.628779   \n",
       "5      0.25  0.654581  0.635557  0.654066  0.654581  0.654581  0.645073   \n",
       "6      0.25  0.650292  0.634015  0.654830  0.650292  0.650292  0.644680   \n",
       "7      1.00  0.638207  0.630544  0.648339  0.638207  0.638207  0.639576   \n",
       "8      0.25  0.634698  0.625530  0.649103  0.634698  0.634698  0.637417   \n",
       "9      0.25  0.627290  0.618974  0.652539  0.627290  0.627290  0.635846   \n",
       "\n",
       "      range      ohlc  \n",
       "0  0.135068  0.588904  \n",
       "1  0.178439  0.565477  \n",
       "2  0.140025  0.587728  \n",
       "3  0.147460  0.615958  \n",
       "4  0.059480  0.629190  \n",
       "5  0.087980  0.649480  \n",
       "6  0.080545  0.647128  \n",
       "7  0.090458  0.638502  \n",
       "8  0.071871  0.635660  \n",
       "9  0.039653  0.631151  "
      ]
     },
     "execution_count": 42,
     "metadata": {},
     "output_type": "execute_result"
    }
   ],
   "source": [
    "norm_test.head(10)"
   ]
  },
  {
   "cell_type": "code",
   "execution_count": 43,
   "id": "ac56483a-d8ab-435e-8805-10220e006dd2",
   "metadata": {},
   "outputs": [
    {
     "name": "stdout",
     "output_type": "stream",
     "text": [
      "<class 'pandas.core.frame.DataFrame'>\n"
     ]
    }
   ],
   "source": [
    "print(type(norm_train.iloc[:2]))"
   ]
  },
  {
   "cell_type": "code",
   "execution_count": 44,
   "id": "e569b265-2695-4fc0-91ab-c10a71c9ac7f",
   "metadata": {},
   "outputs": [],
   "source": [
    "# https://www.geeksforgeeks.org/deep-learning/time-series-forecasting-using-tensorflow/\n",
    "\n",
    "def create_sequences(data, seq_length=5):\n",
    "    input_data, target = [], []\n",
    "    for i in range(len(data) - seq_length):\n",
    "        input_data.append(data.iloc[i:i+seq_length])\n",
    "        target.append(data.iloc[i+seq_length])\n",
    "    return np.array(input_data), np.array(target)\n",
    "\n",
    "# https://www.geeksforgeeks.org/deep-learning/time-series-forecasting-using-tensorflow/"
   ]
  },
  {
   "cell_type": "code",
   "execution_count": 45,
   "id": "6b621939-d995-46b9-8700-7665d9ec76b2",
   "metadata": {},
   "outputs": [],
   "source": [
    "# step = 50 # predict the 60th minute from 50\n",
    "x_train, y_train = create_sequences(norm_train)\n",
    "x_test, y_test = create_sequences(norm_test)"
   ]
  },
  {
   "cell_type": "markdown",
   "id": "c6ff292b-0ce4-438e-9d8b-5b2cf94e2bd1",
   "metadata": {},
   "source": [
    "## Base Model"
   ]
  },
  {
   "cell_type": "code",
   "execution_count": 46,
   "id": "daffaed6-276d-44eb-b82f-87eef9621bf9",
   "metadata": {},
   "outputs": [
    {
     "data": {
      "text/plain": [
       "(2637, 5, 16)"
      ]
     },
     "execution_count": 46,
     "metadata": {},
     "output_type": "execute_result"
    }
   ],
   "source": [
    "x_train.shape"
   ]
  },
  {
   "cell_type": "code",
   "execution_count": 47,
   "id": "9b2a86c4-3126-4223-9bf0-6759fda9f733",
   "metadata": {},
   "outputs": [
    {
     "data": {
      "text/plain": [
       "(2637, 16)"
      ]
     },
     "execution_count": 47,
     "metadata": {},
     "output_type": "execute_result"
    }
   ],
   "source": [
    "y_train.shape"
   ]
  },
  {
   "cell_type": "code",
   "execution_count": 66,
   "id": "994218a4-b405-4827-85cd-c5d0f5fdb717",
   "metadata": {},
   "outputs": [
    {
     "data": {
      "text/html": [
       "<pre style=\"white-space:pre;overflow-x:auto;line-height:normal;font-family:Menlo,'DejaVu Sans Mono',consolas,'Courier New',monospace\"><span style=\"font-weight: bold\">Model: \"sequential_1\"</span>\n",
       "</pre>\n"
      ],
      "text/plain": [
       "\u001b[1mModel: \"sequential_1\"\u001b[0m\n"
      ]
     },
     "metadata": {},
     "output_type": "display_data"
    },
    {
     "data": {
      "text/html": [
       "<pre style=\"white-space:pre;overflow-x:auto;line-height:normal;font-family:Menlo,'DejaVu Sans Mono',consolas,'Courier New',monospace\">┏━━━━━━━━━━━━━━━━━━━━━━━━━━━━━━━━━┳━━━━━━━━━━━━━━━━━━━━━━━━┳━━━━━━━━━━━━━━━┓\n",
       "┃<span style=\"font-weight: bold\"> Layer (type)                    </span>┃<span style=\"font-weight: bold\"> Output Shape           </span>┃<span style=\"font-weight: bold\">       Param # </span>┃\n",
       "┡━━━━━━━━━━━━━━━━━━━━━━━━━━━━━━━━━╇━━━━━━━━━━━━━━━━━━━━━━━━╇━━━━━━━━━━━━━━━┩\n",
       "│ gru_1 (<span style=\"color: #0087ff; text-decoration-color: #0087ff\">GRU</span>)                     │ ?                      │   <span style=\"color: #00af00; text-decoration-color: #00af00\">0</span> (unbuilt) │\n",
       "├─────────────────────────────────┼────────────────────────┼───────────────┤\n",
       "│ lstm_1 (<span style=\"color: #0087ff; text-decoration-color: #0087ff\">LSTM</span>)                   │ ?                      │   <span style=\"color: #00af00; text-decoration-color: #00af00\">0</span> (unbuilt) │\n",
       "├─────────────────────────────────┼────────────────────────┼───────────────┤\n",
       "│ dense_2 (<span style=\"color: #0087ff; text-decoration-color: #0087ff\">Dense</span>)                 │ ?                      │   <span style=\"color: #00af00; text-decoration-color: #00af00\">0</span> (unbuilt) │\n",
       "├─────────────────────────────────┼────────────────────────┼───────────────┤\n",
       "│ dense_3 (<span style=\"color: #0087ff; text-decoration-color: #0087ff\">Dense</span>)                 │ ?                      │   <span style=\"color: #00af00; text-decoration-color: #00af00\">0</span> (unbuilt) │\n",
       "└─────────────────────────────────┴────────────────────────┴───────────────┘\n",
       "</pre>\n"
      ],
      "text/plain": [
       "┏━━━━━━━━━━━━━━━━━━━━━━━━━━━━━━━━━┳━━━━━━━━━━━━━━━━━━━━━━━━┳━━━━━━━━━━━━━━━┓\n",
       "┃\u001b[1m \u001b[0m\u001b[1mLayer (type)                   \u001b[0m\u001b[1m \u001b[0m┃\u001b[1m \u001b[0m\u001b[1mOutput Shape          \u001b[0m\u001b[1m \u001b[0m┃\u001b[1m \u001b[0m\u001b[1m      Param #\u001b[0m\u001b[1m \u001b[0m┃\n",
       "┡━━━━━━━━━━━━━━━━━━━━━━━━━━━━━━━━━╇━━━━━━━━━━━━━━━━━━━━━━━━╇━━━━━━━━━━━━━━━┩\n",
       "│ gru_1 (\u001b[38;5;33mGRU\u001b[0m)                     │ ?                      │   \u001b[38;5;34m0\u001b[0m (unbuilt) │\n",
       "├─────────────────────────────────┼────────────────────────┼───────────────┤\n",
       "│ lstm_1 (\u001b[38;5;33mLSTM\u001b[0m)                   │ ?                      │   \u001b[38;5;34m0\u001b[0m (unbuilt) │\n",
       "├─────────────────────────────────┼────────────────────────┼───────────────┤\n",
       "│ dense_2 (\u001b[38;5;33mDense\u001b[0m)                 │ ?                      │   \u001b[38;5;34m0\u001b[0m (unbuilt) │\n",
       "├─────────────────────────────────┼────────────────────────┼───────────────┤\n",
       "│ dense_3 (\u001b[38;5;33mDense\u001b[0m)                 │ ?                      │   \u001b[38;5;34m0\u001b[0m (unbuilt) │\n",
       "└─────────────────────────────────┴────────────────────────┴───────────────┘\n"
      ]
     },
     "metadata": {},
     "output_type": "display_data"
    },
    {
     "data": {
      "text/html": [
       "<pre style=\"white-space:pre;overflow-x:auto;line-height:normal;font-family:Menlo,'DejaVu Sans Mono',consolas,'Courier New',monospace\"><span style=\"font-weight: bold\"> Total params: </span><span style=\"color: #00af00; text-decoration-color: #00af00\">0</span> (0.00 B)\n",
       "</pre>\n"
      ],
      "text/plain": [
       "\u001b[1m Total params: \u001b[0m\u001b[38;5;34m0\u001b[0m (0.00 B)\n"
      ]
     },
     "metadata": {},
     "output_type": "display_data"
    },
    {
     "data": {
      "text/html": [
       "<pre style=\"white-space:pre;overflow-x:auto;line-height:normal;font-family:Menlo,'DejaVu Sans Mono',consolas,'Courier New',monospace\"><span style=\"font-weight: bold\"> Trainable params: </span><span style=\"color: #00af00; text-decoration-color: #00af00\">0</span> (0.00 B)\n",
       "</pre>\n"
      ],
      "text/plain": [
       "\u001b[1m Trainable params: \u001b[0m\u001b[38;5;34m0\u001b[0m (0.00 B)\n"
      ]
     },
     "metadata": {},
     "output_type": "display_data"
    },
    {
     "data": {
      "text/html": [
       "<pre style=\"white-space:pre;overflow-x:auto;line-height:normal;font-family:Menlo,'DejaVu Sans Mono',consolas,'Courier New',monospace\"><span style=\"font-weight: bold\"> Non-trainable params: </span><span style=\"color: #00af00; text-decoration-color: #00af00\">0</span> (0.00 B)\n",
       "</pre>\n"
      ],
      "text/plain": [
       "\u001b[1m Non-trainable params: \u001b[0m\u001b[38;5;34m0\u001b[0m (0.00 B)\n"
      ]
     },
     "metadata": {},
     "output_type": "display_data"
    }
   ],
   "source": [
    "model = keras.Sequential()\n",
    "\n",
    "model.add(layers.GRU(20, return_sequences=True))\n",
    "model.add(layers.LSTM(256))\n",
    "model.add(layers.Dense(64))\n",
    "model.add(layers.Dense(16))\n",
    "\n",
    "model.compile(optimizer='adam', loss='binary_crossentropy', metrics=['accuracy'])\n",
    "\n",
    "model.summary()"
   ]
  },
  {
   "cell_type": "code",
   "execution_count": 67,
   "id": "489342f4-f7a5-40d1-b962-5561f9e66d0d",
   "metadata": {},
   "outputs": [
    {
     "name": "stdout",
     "output_type": "stream",
     "text": [
      "Epoch 1/5\n",
      "\u001b[1m165/165\u001b[0m \u001b[32m━━━━━━━━━━━━━━━━━━━━\u001b[0m\u001b[37m\u001b[0m \u001b[1m8s\u001b[0m 14ms/step - accuracy: 0.2776 - loss: 1.1706\n",
      "Epoch 2/5\n",
      "\u001b[1m165/165\u001b[0m \u001b[32m━━━━━━━━━━━━━━━━━━━━\u001b[0m\u001b[37m\u001b[0m \u001b[1m2s\u001b[0m 12ms/step - accuracy: 0.4820 - loss: 0.7379\n",
      "Epoch 3/5\n",
      "\u001b[1m165/165\u001b[0m \u001b[32m━━━━━━━━━━━━━━━━━━━━\u001b[0m\u001b[37m\u001b[0m \u001b[1m2s\u001b[0m 14ms/step - accuracy: 0.4035 - loss: 0.6474\n",
      "Epoch 4/5\n",
      "\u001b[1m165/165\u001b[0m \u001b[32m━━━━━━━━━━━━━━━━━━━━\u001b[0m\u001b[37m\u001b[0m \u001b[1m2s\u001b[0m 12ms/step - accuracy: 0.5301 - loss: 0.5231\n",
      "Epoch 5/5\n",
      "\u001b[1m165/165\u001b[0m \u001b[32m━━━━━━━━━━━━━━━━━━━━\u001b[0m\u001b[37m\u001b[0m \u001b[1m2s\u001b[0m 12ms/step - accuracy: 0.4960 - loss: 0.6292\n"
     ]
    }
   ],
   "source": [
    "net = model.fit(x_train, y_train, epochs=5, batch_size=16)"
   ]
  },
  {
   "cell_type": "code",
   "execution_count": 50,
   "id": "bdee3f61-41db-416d-be49-63c2d269bd23",
   "metadata": {},
   "outputs": [
    {
     "name": "stdout",
     "output_type": "stream",
     "text": [
      "\u001b[1m21/21\u001b[0m \u001b[32m━━━━━━━━━━━━━━━━━━━━\u001b[0m\u001b[37m\u001b[0m \u001b[1m1s\u001b[0m 9ms/step - accuracy: 0.1555 - loss: -0.2467\n"
     ]
    },
    {
     "data": {
      "text/plain": [
       "[-0.24674402177333832, 0.1554878056049347]"
      ]
     },
     "execution_count": 50,
     "metadata": {},
     "output_type": "execute_result"
    }
   ],
   "source": [
    "model.evaluate(x_test, y_test)"
   ]
  },
  {
   "cell_type": "code",
   "execution_count": 51,
   "id": "b0b8225e-6906-49ed-84ba-d84966060c6a",
   "metadata": {},
   "outputs": [],
   "source": [
    "model.save('model.keras')"
   ]
  },
  {
   "cell_type": "code",
   "execution_count": 63,
   "id": "0b7cea7c-53e2-454b-983e-8aa12e365480",
   "metadata": {},
   "outputs": [
    {
     "data": {
      "image/png": "[encoded data removed]",
      "text/plain": [
       "<Figure size 640x480 with 1 Axes>"
      ]
     },
     "metadata": {},
     "output_type": "display_data"
    }
   ],
   "source": [
    "history = net.history\n",
    "loss = history['loss']\n",
    "acc = history['accuracy']\n",
    "\n",
    "epochs = range(1, len(loss) + 1)\n",
    "\n",
    "plt.plot(epochs, loss, 'bo', label='Training loss')\n",
    "plt.plot(epochs, acc, 'b', label='Training accuracy')\n",
    "plt.title('Training loss and accuracy')\n",
    "plt.xlabel('Epochs')\n",
    "plt.ylabel('Loss')\n",
    "plt.legend()\n",
    "plt.show()"
   ]
  }
 ],
 "metadata": {
  "kernelspec": {
   "display_name": "Python 3 (ipykernel)",
   "language": "python",
   "name": "python3"
  },
  "language_info": {
   "codemirror_mode": {
    "name": "ipython",
    "version": 3
   },
   "file_extension": ".py",
   "mimetype": "text/x-python",
   "name": "python",
   "nbconvert_exporter": "python",
   "pygments_lexer": "ipython3",
   "version": "3.12.3"
  }
 },
 "nbformat": 4,
 "nbformat_minor": 5
}

{
 "cells": [
  {
   "cell_type": "code",
   "execution_count": 123,
   "id": "1e7543ad-755b-4622-8d1c-e0695d65edc7",
   "metadata": {},
   "outputs": [
    {
     "data": {
      "text/plain": [
       "<curl_cffi.requests.session.Session at 0x7dbbc2728a40>"
      ]
     },
     "execution_count": 123,
     "metadata": {},
     "output_type": "execute_result"
    }
   ],
   "source": [
    "import yfinance as yf\n",
    "import numpy as np\n",
    "import tensorflow as tf\n",
    "import keras\n",
    "import pandas as pd\n",
    "import datetime as dt\n",
    "import isoweek\n",
    "import math\n",
    "from sklearn.preprocessing import MinMaxScaler\n",
    "import curl_cffi\n",
    "curl_cffi.requests.Session(impersonate=\"chrome\")"
   ]
  },
  {
   "cell_type": "code",
   "execution_count": null,
   "id": "b2e2cc0b-ca87-4f3d-bc34-0b73108544e7",
   "metadata": {},
   "outputs": [],
   "source": []
  },
  {
   "cell_type": "code",
   "execution_count": 2,
   "id": "f55e1eb5-1a18-4d45-824b-ca11a644888a",
   "metadata": {},
   "outputs": [],
   "source": [
    "def get_data():\n",
    "    offset = 0\n",
    "    now = pd.Timestamp.today() - pd.Timedelta(days=3)\n",
    "    \n",
    "    # No stock market data on weekends\n",
    "    if now.day_of_week == 5:\n",
    "        offset = 1\n",
    "    elif now.day_of_week == 6:\n",
    "        offset = 2\n",
    "\n",
    "    now = now - pd.Timedelta(days=offset)        \n",
    "    now = now.floor('10 min')\n",
    "    prev = now - pd.Timedelta(minutes=50)\n",
    "    data = yf.download('EURUSD=X', start=prev, end=now, interval='5m')\n",
    "    return data"
   ]
  },
  {
   "cell_type": "code",
   "execution_count": 244,
   "id": "4ca81371-7c12-4254-96af-b7912771bb9a",
   "metadata": {},
   "outputs": [
    {
     "name": "stderr",
     "output_type": "stream",
     "text": [
      "/tmp/ipykernel_104346/2587580357.py:14: FutureWarning: YF.download() has changed argument auto_adjust default to True\n",
      "  data = yf.download('EURUSD=X', start=prev, end=now, interval='5m')\n",
      "[*********************100%***********************]  1 of 1 completed\n"
     ]
    }
   ],
   "source": [
    "data = get_data()"
   ]
  },
  {
   "cell_type": "code",
   "execution_count": 243,
   "id": "abcb7c9e-8c49-4994-a312-a03c9a0599ec",
   "metadata": {},
   "outputs": [],
   "source": [
    "data.to_csv('~/Workspace/fp/yfinance.csv')"
   ]
  },
  {
   "cell_type": "code",
   "execution_count": 5,
   "id": "5d25170c-e37f-42bb-bfd0-be1da12de064",
   "metadata": {},
   "outputs": [],
   "source": [
    "count = 0\n",
    "high = 0.00000\n",
    "low = 9.99999\n",
    "open_price = 0.00000\n",
    "close_price = 0.00000\n",
    "\n",
    "clean = pd.DataFrame(columns=['week', 'day', 'hour', 'minute',\n",
    "                              'open', 'high', 'low', 'close',\n",
    "                              'momentum', 'avg', 'range', 'ohlc'])\n",
    "\n",
    "for row in data.itertuples():\n",
    "    if (row[2] > high):\n",
    "        high = row[2]\n",
    "    \n",
    "    if (row[3] < low):\n",
    "        low = row[3]\n",
    "\n",
    "    if (count == 0):\n",
    "        minute = row[0].minute\n",
    "        open_price = row[4]\n",
    "\n",
    "    if (count == 1):\n",
    "        close_price = row[1]\n",
    "        hour = row[0].hour\n",
    "        day = row[0].weekday()\n",
    "        week = row[0].week\n",
    "        momentum = open_price = close_price\n",
    "        avg = ( (low + high) / 2 )\n",
    "        price_range = high - low\n",
    "        ohlc = ( (open_price + high + low + close_price) / 4)\n",
    "        \n",
    "        new_row = [week, day, hour, minute,\n",
    "                   open_price, high, low, close_price,\n",
    "                   momentum, avg, price_range, ohlc]\n",
    "        clean.loc[len(clean)] = new_row\n",
    "        \n",
    "        count = 0\n",
    "        high = 0\n",
    "        low = 999\n",
    "        continue\n",
    "    \n",
    "    count += 1"
   ]
  },
  {
   "cell_type": "code",
   "execution_count": 6,
   "id": "065bd4e9-ddb5-44c5-a012-846e9c1d497c",
   "metadata": {},
   "outputs": [
    {
     "data": {
      "text/html": [
       "<div>\n",
       "<style scoped>\n",
       "    .dataframe tbody tr th:only-of-type {\n",
       "        vertical-align: middle;\n",
       "    }\n",
       "\n",
       "    .dataframe tbody tr th {\n",
       "        vertical-align: top;\n",
       "    }\n",
       "\n",
       "    .dataframe thead th {\n",
       "        text-align: right;\n",
       "    }\n",
       "</style>\n",
       "<table border=\"1\" class=\"dataframe\">\n",
       "  <thead>\n",
       "    <tr style=\"text-align: right;\">\n",
       "      <th></th>\n",
       "      <th>week</th>\n",
       "      <th>day</th>\n",
       "      <th>hour</th>\n",
       "      <th>minute</th>\n",
       "      <th>open</th>\n",
       "      <th>high</th>\n",
       "      <th>low</th>\n",
       "      <th>close</th>\n",
       "      <th>momentum</th>\n",
       "      <th>avg</th>\n",
       "      <th>range</th>\n",
       "      <th>ohlc</th>\n",
       "    </tr>\n",
       "  </thead>\n",
       "  <tbody>\n",
       "    <tr>\n",
       "      <th>0</th>\n",
       "      <td>38.0</td>\n",
       "      <td>4.0</td>\n",
       "      <td>3.0</td>\n",
       "      <td>20.0</td>\n",
       "      <td>1.179384</td>\n",
       "      <td>1.179523</td>\n",
       "      <td>1.178967</td>\n",
       "      <td>1.179384</td>\n",
       "      <td>1.179384</td>\n",
       "      <td>1.179245</td>\n",
       "      <td>0.000556</td>\n",
       "      <td>1.179315</td>\n",
       "    </tr>\n",
       "    <tr>\n",
       "      <th>1</th>\n",
       "      <td>38.0</td>\n",
       "      <td>4.0</td>\n",
       "      <td>3.0</td>\n",
       "      <td>30.0</td>\n",
       "      <td>1.179384</td>\n",
       "      <td>1.179523</td>\n",
       "      <td>1.179245</td>\n",
       "      <td>1.179384</td>\n",
       "      <td>1.179384</td>\n",
       "      <td>1.179384</td>\n",
       "      <td>0.000278</td>\n",
       "      <td>1.179384</td>\n",
       "    </tr>\n",
       "    <tr>\n",
       "      <th>2</th>\n",
       "      <td>38.0</td>\n",
       "      <td>4.0</td>\n",
       "      <td>3.0</td>\n",
       "      <td>40.0</td>\n",
       "      <td>1.179106</td>\n",
       "      <td>1.179384</td>\n",
       "      <td>1.179106</td>\n",
       "      <td>1.179106</td>\n",
       "      <td>1.179106</td>\n",
       "      <td>1.179245</td>\n",
       "      <td>0.000278</td>\n",
       "      <td>1.179176</td>\n",
       "    </tr>\n",
       "    <tr>\n",
       "      <th>3</th>\n",
       "      <td>38.0</td>\n",
       "      <td>4.0</td>\n",
       "      <td>3.0</td>\n",
       "      <td>50.0</td>\n",
       "      <td>1.178550</td>\n",
       "      <td>1.178967</td>\n",
       "      <td>1.178550</td>\n",
       "      <td>1.178550</td>\n",
       "      <td>1.178550</td>\n",
       "      <td>1.178759</td>\n",
       "      <td>0.000417</td>\n",
       "      <td>1.178655</td>\n",
       "    </tr>\n",
       "    <tr>\n",
       "      <th>4</th>\n",
       "      <td>38.0</td>\n",
       "      <td>4.0</td>\n",
       "      <td>4.0</td>\n",
       "      <td>0.0</td>\n",
       "      <td>1.179245</td>\n",
       "      <td>1.179245</td>\n",
       "      <td>1.178689</td>\n",
       "      <td>1.179245</td>\n",
       "      <td>1.179245</td>\n",
       "      <td>1.178967</td>\n",
       "      <td>0.000556</td>\n",
       "      <td>1.179106</td>\n",
       "    </tr>\n",
       "  </tbody>\n",
       "</table>\n",
       "</div>"
      ],
      "text/plain": [
       "   week  day  hour  minute      open      high       low     close  momentum  \\\n",
       "0  38.0  4.0   3.0    20.0  1.179384  1.179523  1.178967  1.179384  1.179384   \n",
       "1  38.0  4.0   3.0    30.0  1.179384  1.179523  1.179245  1.179384  1.179384   \n",
       "2  38.0  4.0   3.0    40.0  1.179106  1.179384  1.179106  1.179106  1.179106   \n",
       "3  38.0  4.0   3.0    50.0  1.178550  1.178967  1.178550  1.178550  1.178550   \n",
       "4  38.0  4.0   4.0     0.0  1.179245  1.179245  1.178689  1.179245  1.179245   \n",
       "\n",
       "        avg     range      ohlc  \n",
       "0  1.179245  0.000556  1.179315  \n",
       "1  1.179384  0.000278  1.179384  \n",
       "2  1.179245  0.000278  1.179176  \n",
       "3  1.178759  0.000417  1.178655  \n",
       "4  1.178967  0.000556  1.179106  "
      ]
     },
     "execution_count": 6,
     "metadata": {},
     "output_type": "execute_result"
    }
   ],
   "source": [
    "clean"
   ]
  },
  {
   "cell_type": "code",
   "execution_count": 7,
   "id": "5f70cf64-97fb-44eb-b33b-d5999c6df607",
   "metadata": {},
   "outputs": [],
   "source": [
    "year = 2025"
   ]
  },
  {
   "cell_type": "code",
   "execution_count": 8,
   "id": "e7017f75-a173-486a-bf09-8e3c6f837e5a",
   "metadata": {},
   "outputs": [],
   "source": [
    "def to_normal_vector(value):\n",
    "    angle = value * math.pi * 2\n",
    "    x = math.sin(angle)\n",
    "    y = math.cos(angle)\n",
    "    x = (x + 1) / 2\n",
    "    y = (y + 1) / 2\n",
    "    return(x, y)"
   ]
  },
  {
   "cell_type": "code",
   "execution_count": 9,
   "id": "d71dc153-c1e1-4d97-afc5-0516661497e1",
   "metadata": {},
   "outputs": [],
   "source": [
    "def normalize_time(df):\n",
    "    time = pd.DataFrame(columns=['week_x', 'week_y', 'day_x', 'day_y',\n",
    "                                 'hour_x', 'hour_y', 'minute_x', 'minute_y'])\n",
    "\n",
    "    for row in df.itertuples():\n",
    "        week_ratio = row[1] / isoweek.Week.last_week_of_year(year).week\n",
    "        week = to_normal_vector(week_ratio)\n",
    "        day_ratio = row[2] / 7\n",
    "        day = to_normal_vector(day_ratio)\n",
    "        hour_ratio = row[3] / 24\n",
    "        hour = to_normal_vector(hour_ratio)\n",
    "        minute_ratio = row[4] / 6\n",
    "        minute = to_normal_vector(minute_ratio)\n",
    "    \n",
    "        new_row = [ week[0], week[1], day[0], day[1],\n",
    "                    hour[0], hour[1], minute[0], minute[1] ]\n",
    "        time.loc[len(time)] = new_row\n",
    "\n",
    "    return time"
   ]
  },
  {
   "cell_type": "code",
   "execution_count": 10,
   "id": "44909d55-fbff-454a-9113-2abb285cc24c",
   "metadata": {},
   "outputs": [],
   "source": [
    "time = normalize_time(clean)"
   ]
  },
  {
   "cell_type": "code",
   "execution_count": 11,
   "id": "d2de07db-9263-4b6f-a918-221d06b4bcf6",
   "metadata": {},
   "outputs": [],
   "source": [
    "price_columns = ['open', 'high', 'low', 'close',\n",
    "                'momentum', 'avg', 'range', 'ohlc']\n",
    "prices = clean[price_columns]\n",
    "scaler = MinMaxScaler()\n",
    "scaler.set_output(transform='pandas')\n",
    "prices = scaler.fit_transform(prices.transpose()) # for one value\n",
    "prices = prices.transpose()\n",
    "prices.reset_index(drop=True, inplace=True)"
   ]
  },
  {
   "cell_type": "code",
   "execution_count": 12,
   "id": "0465f7f0-f822-4ea7-b8ae-554d97ce7f9c",
   "metadata": {},
   "outputs": [],
   "source": [
    "norm_data = pd.concat([time, prices], axis=1)"
   ]
  },
  {
   "cell_type": "code",
   "execution_count": 13,
   "id": "d95c32b8-06d8-43cf-bee2-f6c0465a039e",
   "metadata": {},
   "outputs": [
    {
     "data": {
      "text/html": [
       "<div>\n",
       "<style scoped>\n",
       "    .dataframe tbody tr th:only-of-type {\n",
       "        vertical-align: middle;\n",
       "    }\n",
       "\n",
       "    .dataframe tbody tr th {\n",
       "        vertical-align: top;\n",
       "    }\n",
       "\n",
       "    .dataframe thead th {\n",
       "        text-align: right;\n",
       "    }\n",
       "</style>\n",
       "<table border=\"1\" class=\"dataframe\">\n",
       "  <thead>\n",
       "    <tr style=\"text-align: right;\">\n",
       "      <th></th>\n",
       "      <th>week_x</th>\n",
       "      <th>week_y</th>\n",
       "      <th>day_x</th>\n",
       "      <th>day_y</th>\n",
       "      <th>hour_x</th>\n",
       "      <th>hour_y</th>\n",
       "      <th>minute_x</th>\n",
       "      <th>minute_y</th>\n",
       "      <th>open</th>\n",
       "      <th>high</th>\n",
       "      <th>low</th>\n",
       "      <th>close</th>\n",
       "      <th>momentum</th>\n",
       "      <th>avg</th>\n",
       "      <th>range</th>\n",
       "      <th>ohlc</th>\n",
       "    </tr>\n",
       "  </thead>\n",
       "  <tbody>\n",
       "    <tr>\n",
       "      <th>0</th>\n",
       "      <td>0.003646</td>\n",
       "      <td>0.439732</td>\n",
       "      <td>0.283058</td>\n",
       "      <td>0.049516</td>\n",
       "      <td>0.853553</td>\n",
       "      <td>0.853553</td>\n",
       "      <td>0.933013</td>\n",
       "      <td>0.25</td>\n",
       "      <td>0.999882</td>\n",
       "      <td>1.0</td>\n",
       "      <td>0.999528</td>\n",
       "      <td>0.999882</td>\n",
       "      <td>0.999882</td>\n",
       "      <td>0.999764</td>\n",
       "      <td>0.0</td>\n",
       "      <td>0.999823</td>\n",
       "    </tr>\n",
       "    <tr>\n",
       "      <th>1</th>\n",
       "      <td>0.003646</td>\n",
       "      <td>0.439732</td>\n",
       "      <td>0.283058</td>\n",
       "      <td>0.049516</td>\n",
       "      <td>0.853553</td>\n",
       "      <td>0.853553</td>\n",
       "      <td>0.500000</td>\n",
       "      <td>1.00</td>\n",
       "      <td>0.999882</td>\n",
       "      <td>1.0</td>\n",
       "      <td>0.999764</td>\n",
       "      <td>0.999882</td>\n",
       "      <td>0.999882</td>\n",
       "      <td>0.999882</td>\n",
       "      <td>0.0</td>\n",
       "      <td>0.999882</td>\n",
       "    </tr>\n",
       "    <tr>\n",
       "      <th>2</th>\n",
       "      <td>0.003646</td>\n",
       "      <td>0.439732</td>\n",
       "      <td>0.283058</td>\n",
       "      <td>0.049516</td>\n",
       "      <td>0.853553</td>\n",
       "      <td>0.853553</td>\n",
       "      <td>0.066987</td>\n",
       "      <td>0.25</td>\n",
       "      <td>0.999764</td>\n",
       "      <td>1.0</td>\n",
       "      <td>0.999764</td>\n",
       "      <td>0.999764</td>\n",
       "      <td>0.999764</td>\n",
       "      <td>0.999882</td>\n",
       "      <td>0.0</td>\n",
       "      <td>0.999823</td>\n",
       "    </tr>\n",
       "    <tr>\n",
       "      <th>3</th>\n",
       "      <td>0.003646</td>\n",
       "      <td>0.439732</td>\n",
       "      <td>0.283058</td>\n",
       "      <td>0.049516</td>\n",
       "      <td>0.853553</td>\n",
       "      <td>0.853553</td>\n",
       "      <td>0.933013</td>\n",
       "      <td>0.25</td>\n",
       "      <td>0.999646</td>\n",
       "      <td>1.0</td>\n",
       "      <td>0.999646</td>\n",
       "      <td>0.999646</td>\n",
       "      <td>0.999646</td>\n",
       "      <td>0.999823</td>\n",
       "      <td>0.0</td>\n",
       "      <td>0.999735</td>\n",
       "    </tr>\n",
       "    <tr>\n",
       "      <th>4</th>\n",
       "      <td>0.003646</td>\n",
       "      <td>0.439732</td>\n",
       "      <td>0.283058</td>\n",
       "      <td>0.049516</td>\n",
       "      <td>0.933013</td>\n",
       "      <td>0.750000</td>\n",
       "      <td>0.500000</td>\n",
       "      <td>1.00</td>\n",
       "      <td>1.000000</td>\n",
       "      <td>1.0</td>\n",
       "      <td>0.999528</td>\n",
       "      <td>1.000000</td>\n",
       "      <td>1.000000</td>\n",
       "      <td>0.999764</td>\n",
       "      <td>0.0</td>\n",
       "      <td>0.999882</td>\n",
       "    </tr>\n",
       "  </tbody>\n",
       "</table>\n",
       "</div>"
      ],
      "text/plain": [
       "     week_x    week_y     day_x     day_y    hour_x    hour_y  minute_x  \\\n",
       "0  0.003646  0.439732  0.283058  0.049516  0.853553  0.853553  0.933013   \n",
       "1  0.003646  0.439732  0.283058  0.049516  0.853553  0.853553  0.500000   \n",
       "2  0.003646  0.439732  0.283058  0.049516  0.853553  0.853553  0.066987   \n",
       "3  0.003646  0.439732  0.283058  0.049516  0.853553  0.853553  0.933013   \n",
       "4  0.003646  0.439732  0.283058  0.049516  0.933013  0.750000  0.500000   \n",
       "\n",
       "   minute_y      open  high       low     close  momentum       avg  range  \\\n",
       "0      0.25  0.999882   1.0  0.999528  0.999882  0.999882  0.999764    0.0   \n",
       "1      1.00  0.999882   1.0  0.999764  0.999882  0.999882  0.999882    0.0   \n",
       "2      0.25  0.999764   1.0  0.999764  0.999764  0.999764  0.999882    0.0   \n",
       "3      0.25  0.999646   1.0  0.999646  0.999646  0.999646  0.999823    0.0   \n",
       "4      1.00  1.000000   1.0  0.999528  1.000000  1.000000  0.999764    0.0   \n",
       "\n",
       "       ohlc  \n",
       "0  0.999823  \n",
       "1  0.999882  \n",
       "2  0.999823  \n",
       "3  0.999735  \n",
       "4  0.999882  "
      ]
     },
     "execution_count": 13,
     "metadata": {},
     "output_type": "execute_result"
    }
   ],
   "source": [
    "norm_data"
   ]
  },
  {
   "cell_type": "code",
   "execution_count": 14,
   "id": "6c7f0416-0fb7-4c4a-8775-fa1bb8932784",
   "metadata": {},
   "outputs": [],
   "source": [
    "norm_data.loc[len(norm_data)] = 0"
   ]
  },
  {
   "cell_type": "code",
   "execution_count": 16,
   "id": "f4221262-41bd-4e20-a5a2-218582061bb6",
   "metadata": {},
   "outputs": [],
   "source": [
    "# https://www.geeksforgeeks.org/deep-learning/time-series-forecasting-using-tensorflow/\n",
    "\n",
    "def create_sequences(data, seq_length=5):\n",
    "    input_data, target = [], []\n",
    "    for i in range(len(data) - seq_length):\n",
    "        input_data.append(data.iloc[i:i+seq_length])\n",
    "        target.append(data.iloc[i+seq_length])\n",
    "    return np.array(input_data), np.array(target)\n",
    "\n",
    "# https://www.geeksforgeeks.org/deep-learning/time-series-forecasting-using-tensorflow/"
   ]
  },
  {
   "cell_type": "code",
   "execution_count": 17,
   "id": "c12fad3d-44ed-4cf4-a456-996890ec7638",
   "metadata": {},
   "outputs": [],
   "source": [
    "# step = 50 # predict the 60th minute from 50\n",
    "X, y = create_sequences(norm_data)"
   ]
  },
  {
   "cell_type": "code",
   "execution_count": 18,
   "id": "83480361-9698-4cc6-96fa-66ca61953e66",
   "metadata": {},
   "outputs": [
    {
     "data": {
      "text/html": [
       "<div>\n",
       "<style scoped>\n",
       "    .dataframe tbody tr th:only-of-type {\n",
       "        vertical-align: middle;\n",
       "    }\n",
       "\n",
       "    .dataframe tbody tr th {\n",
       "        vertical-align: top;\n",
       "    }\n",
       "\n",
       "    .dataframe thead th {\n",
       "        text-align: right;\n",
       "    }\n",
       "</style>\n",
       "<table border=\"1\" class=\"dataframe\">\n",
       "  <thead>\n",
       "    <tr style=\"text-align: right;\">\n",
       "      <th></th>\n",
       "    </tr>\n",
       "  </thead>\n",
       "  <tbody>\n",
       "  </tbody>\n",
       "</table>\n",
       "</div>"
      ],
      "text/plain": [
       "Empty DataFrame\n",
       "Columns: []\n",
       "Index: []"
      ]
     },
     "execution_count": 18,
     "metadata": {},
     "output_type": "execute_result"
    }
   ],
   "source": [
    "x"
   ]
  },
  {
   "cell_type": "code",
   "execution_count": 19,
   "id": "dcd3eccb-fdab-445d-a1f1-e247f59ebb84",
   "metadata": {},
   "outputs": [],
   "source": [
    "model = keras.models.load_model('model.keras')"
   ]
  },
  {
   "cell_type": "code",
   "execution_count": 21,
   "id": "92892cf8-cc30-4967-ab6e-29e570a7cfce",
   "metadata": {},
   "outputs": [
    {
     "name": "stdout",
     "output_type": "stream",
     "text": [
      "\u001b[1m1/1\u001b[0m \u001b[32m━━━━━━━━━━━━━━━━━━━━\u001b[0m\u001b[37m\u001b[0m \u001b[1m0s\u001b[0m 57ms/step\n"
     ]
    }
   ],
   "source": [
    "prediction = model.predict(X)"
   ]
  },
  {
   "cell_type": "code",
   "execution_count": 27,
   "id": "607b45e0-845d-4836-b7d8-9c0d79754243",
   "metadata": {},
   "outputs": [
    {
     "data": {
      "text/plain": [
       "array([ 0.79345083,  0.78618103,  0.74010044,  0.41726282,  0.8263778 ,\n",
       "        0.11771979, -0.03768125,  0.7609472 ], dtype=float32)"
      ]
     },
     "execution_count": 27,
     "metadata": {},
     "output_type": "execute_result"
    }
   ],
   "source": [
    "prediction[0][8:]"
   ]
  },
  {
   "cell_type": "code",
   "execution_count": 38,
   "id": "8b4a45a9-606e-4588-8e3f-d6ee35ec6ca7",
   "metadata": {},
   "outputs": [],
   "source": [
    "pred = prediction[0][8:]"
   ]
  },
  {
   "cell_type": "code",
   "execution_count": 48,
   "id": "8c005772-01f1-4bf2-950b-7e85d0cce106",
   "metadata": {},
   "outputs": [
    {
     "data": {
      "text/plain": [
       "array([[-0.2145921 ,  0.0750551 , -0.49954632,  0.03436432, -0.011317  ,\n",
       "        -1.8840845 ,  1.1776438 ,  0.23719978,  0.79345083,  0.78618103,\n",
       "         0.74010044,  0.41726282,  0.8263778 ,  0.11771979, -0.03768125,\n",
       "         0.7609472 ]], dtype=float32)"
      ]
     },
     "execution_count": 48,
     "metadata": {},
     "output_type": "execute_result"
    }
   ],
   "source": [
    "prediction"
   ]
  },
  {
   "cell_type": "code",
   "execution_count": 53,
   "id": "5800bdc1-998c-42d8-a726-9ef56ca9e684",
   "metadata": {},
   "outputs": [],
   "source": [
    "def un_normalize(data):\n",
    "    data = data.reshape(1, -1)\n",
    "    scaler.fit(data)\n",
    "    return scaler.inverse_transform(data)"
   ]
  },
  {
   "cell_type": "code",
   "execution_count": 55,
   "id": "9560d935-c854-465b-948f-9ae92a8fd389",
   "metadata": {},
   "outputs": [],
   "source": [
    "pred_prices = un_normalize(pred)"
   ]
  },
  {
   "cell_type": "code",
   "execution_count": 219,
   "id": "ca1ed87e-7de4-4df1-97b0-b66f1b862dac",
   "metadata": {},
   "outputs": [
    {
     "data": {
      "text/plain": [
       "array([ 1.5869017 ,  1.5723621 ,  1.4802009 ,  0.83452564,  1.6527556 ,\n",
       "        0.23543958, -0.0753625 ,  1.5218945 ], dtype=float32)"
      ]
     },
     "execution_count": 219,
     "metadata": {},
     "output_type": "execute_result"
    }
   ],
   "source": [
    "pred_prices[0]"
   ]
  },
  {
   "cell_type": "code",
   "execution_count": null,
   "id": "58cf0ce9-db42-4c5c-9872-04555dc4ea51",
   "metadata": {},
   "outputs": [],
   "source": [
    "time_cols = ['week', 'day', 'hour', 'minute']"
   ]
  },
  {
   "cell_type": "code",
   "execution_count": 198,
   "id": "7e5ac468-c280-4fe8-b4e7-bb636a995906",
   "metadata": {},
   "outputs": [],
   "source": [
    "last_time = clean[-1:]\n",
    "last_time = last_time.iloc[0]\n",
    "last_time = last_time[time_cols]"
   ]
  },
  {
   "cell_type": "code",
   "execution_count": 147,
   "id": "31cd809c-4a8a-46bf-8523-981672ca688b",
   "metadata": {},
   "outputs": [],
   "source": [
    "def float_to_string(num):\n",
    "    return ('%.2f' % (num,)).rstrip('0').rstrip('.')"
   ]
  },
  {
   "cell_type": "code",
   "execution_count": 155,
   "id": "c2d42741-c538-4f39-a5d0-0b4a9596c92a",
   "metadata": {},
   "outputs": [],
   "source": [
    "def time_to_string(series):\n",
    "    week = float_to_string(series['week'])\n",
    "    day = float_to_string(series['day'])\n",
    "    hour = float_to_string(series['hour'])\n",
    "    minute = float_to_string(series['minute'])\n",
    "\n",
    "    stamp = str(year)+' '+week+' '+day+' '+hour+' '+minute\n",
    "    return dt.datetime.strptime(stamp, '%Y %U %w %H %M')\n",
    "    "
   ]
  },
  {
   "cell_type": "code",
   "execution_count": 157,
   "id": "c9694a57-7943-4395-89b4-8c3996e53681",
   "metadata": {},
   "outputs": [],
   "source": [
    "pred_time = time_to_string(last_time)"
   ]
  },
  {
   "cell_type": "code",
   "execution_count": 159,
   "id": "46f32912-3427-4656-b9ed-4ef5c4f30d68",
   "metadata": {},
   "outputs": [
    {
     "data": {
      "text/plain": [
       "'2025-25-09'"
      ]
     },
     "execution_count": 159,
     "metadata": {},
     "output_type": "execute_result"
    }
   ],
   "source": [
    "pred_time.strftime('%Y-%d-%m')"
   ]
  },
  {
   "cell_type": "code",
   "execution_count": 229,
   "id": "83c3ee3d-8e5b-4c04-bb4c-9fab8e43b72b",
   "metadata": {},
   "outputs": [],
   "source": [
    "j = clean.to_numpy()\n",
    "ticker = []\n",
    "for row in j:\n",
    "    time_data = pd.Series(row[:4], index=time_cols)\n",
    "    t = time_to_string(time_data)\n",
    "    date = t.strftime('%Y-%d-%m')\n",
    "    open_price = i[4]\n",
    "    high = i[5]\n",
    "    low = i[6]\n",
    "    close = i[7]\n",
    "    momentum = i[8]\n",
    "    avg = i[9]\n",
    "    price_range = i[10]\n",
    "    ohlc = i[11]\n",
    "\n",
    "    ticker.append({\n",
    "        'Date': date,\n",
    "        'Open': open_price.item(),\n",
    "        'High': high.item(),\n",
    "        'Low': low.item(),\n",
    "        'Close': close.item()\n",
    "    })"
   ]
  },
  {
   "cell_type": "code",
   "execution_count": 231,
   "id": "0595d594-a012-4459-b727-e525ae7b1b39",
   "metadata": {},
   "outputs": [
    {
     "data": {
      "text/plain": [
       "[{'Date': '2025-25-09',\n",
       "  'Open': 1.1793843507766724,\n",
       "  'High': 1.1795234680175781,\n",
       "  'Low': 1.1789672374725342,\n",
       "  'Close': 1.1793843507766724},\n",
       " {'Date': '2025-25-09',\n",
       "  'Open': 1.1793843507766724,\n",
       "  'High': 1.1795234680175781,\n",
       "  'Low': 1.1789672374725342,\n",
       "  'Close': 1.1793843507766724},\n",
       " {'Date': '2025-25-09',\n",
       "  'Open': 1.1793843507766724,\n",
       "  'High': 1.1795234680175781,\n",
       "  'Low': 1.1789672374725342,\n",
       "  'Close': 1.1793843507766724},\n",
       " {'Date': '2025-25-09',\n",
       "  'Open': 1.1793843507766724,\n",
       "  'High': 1.1795234680175781,\n",
       "  'Low': 1.1789672374725342,\n",
       "  'Close': 1.1793843507766724},\n",
       " {'Date': '2025-25-09',\n",
       "  'Open': 1.1793843507766724,\n",
       "  'High': 1.1795234680175781,\n",
       "  'Low': 1.1789672374725342,\n",
       "  'Close': 1.1793843507766724}]"
      ]
     },
     "execution_count": 231,
     "metadata": {},
     "output_type": "execute_result"
    }
   ],
   "source": [
    "ticker"
   ]
  }
 ],
 "metadata": {
  "kernelspec": {
   "display_name": "Python 3 (ipykernel)",
   "language": "python",
   "name": "python3"
  },
  "language_info": {
   "codemirror_mode": {
    "name": "ipython",
    "version": 3
   },
   "file_extension": ".py",
   "mimetype": "text/x-python",
   "name": "python",
   "nbconvert_exporter": "python",
   "pygments_lexer": "ipython3",
   "version": "3.12.3"
  }
 },
 "nbformat": 4,
 "nbformat_minor": 5
}
